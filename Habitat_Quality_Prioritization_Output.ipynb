{
 "cells": [
  {
   "cell_type": "markdown",
   "metadata": {},
   "source": [
    "# Script to Process Upper Columbia Habitat Quality Data Based on Criteria\n",
    "# Data from RTT Prioritizatoin Process \n",
    "## Author: Ryan Niemeyer, Upper Columbia Salmon Recovery Board\n",
    "### For more information, see https://www.ucsrb.org/prioritization/\n"
   ]
  },
  {
   "cell_type": "code",
   "execution_count": 1,
   "metadata": {},
   "outputs": [
    {
     "data": {
      "text/html": [
       "<img src=\"https://storage.googleapis.com/ff-storage-p01/festivals/logos/000/051/750/large/logo.jpg?1575572027\" width=\"200\" height=\"200\"/>"
      ],
      "text/plain": [
       "<IPython.core.display.Image object>"
      ]
     },
     "execution_count": 1,
     "metadata": {},
     "output_type": "execute_result"
    }
   ],
   "source": [
    "from IPython.display import Image\n",
    "from IPython.core.display import HTML \n",
    "Image(url= \"https://storage.googleapis.com/ff-storage-p01/festivals/logos/000/051/750/large/logo.jpg?1575572027\", width=200, height=200)"
   ]
  },
  {
   "cell_type": "markdown",
   "metadata": {},
   "source": [
    "## ------------------------------------ Upload Python Libraries -----------------------------------"
   ]
  },
  {
   "cell_type": "code",
   "execution_count": 96,
   "metadata": {},
   "outputs": [],
   "source": [
    "import pandas as pd\n",
    "import numpy as np\n",
    "from matplotlib import pyplot as plt \n",
    "# import geopandas as gpd\n",
    "pd.options.display.max_colwidth = 150 # make it so print statements can be longer\n",
    "pd.options.display.max_columns = None\n",
    "pd.options.display.max_rows = 200\n",
    "# CHEAT SHEET for pd and np commands: https://www.dataquest.io/blog/pandas-cheat-sheet/#:~:text=%20Pandas%20Cheat%20Sheet%20%E2%80%94%20Python%20for%20Data,CSV%2C%20.xlsx%2C%20SQL%2C%20or%20JSON.%20%20More%20"
   ]
  },
  {
   "cell_type": "markdown",
   "metadata": {},
   "source": [
    "## ----------------------------------------------------------------------------------------------------------------------------\n",
    "##             Choose the Criteria for Habitat Quality Output Table and Output  \n",
    "## ----------------------------------------------------------------------------------------------------------------------------\n",
    "### !!!!! DOUBLE CHECK these are the criteria you want !!!!!!!!!!!!!!"
   ]
  },
  {
   "cell_type": "markdown",
   "metadata": {},
   "source": [
    "## Criteria for Query\n",
    "### Update if criteria for output habitat quality tables change"
   ]
  },
  {
   "cell_type": "code",
   "execution_count": 129,
   "metadata": {},
   "outputs": [],
   "source": [
    "# -------- Assessment Unit (AU) (HUC12) Tier rank (data in habitat_attribute_scores) ----------------\n",
    "AU_Rank = [1]                        # 1 is high priority, 3 is low priority\n",
    "# --------------- Reach Confinment (data in confinement_scores) --------------------------------\n",
    "Reach_Confinement = [5]              # 1, 3, 5, where 1 is higher % confined, 5 is higher % unconfined, based on USGS Valley Confinment Algorithm\n",
    "# for test\n",
    "#Reach_Confinement = [1, 3, 5]           # ONLY for testing \n",
    "\n",
    "# --------------- Sum Life Stage (sum of all the life stages present in reach) ---------------------\n",
    "Sum_Life_Stage = [4, 5, 6, 7]   # number of life stages present in a reach\n",
    "\n",
    "# ----------------- Habitat Quality Score (data in habitat_attribute_scores) -----------------\n",
    "Habitat_Quality_score = [5]      # based on \"goldilocks method\" where 5 is highest proirity, 1 is lowest\n",
    "\n",
    "# --------------------- Habitat Attribute Scores-- \"DRAFT Habitat Attribute...\" data (data in Cumul_Habitat_Attribute_Score)\n",
    "# Oct 2020: did [1] (Acceptable only)   OR [1, 3] (Acceptable and At Risk)\n",
    "Individual_Habitat_Attribute_Score = [1]   # possible scores - [1,3,5] 1 - unacceptable, 5 - adequate\n"
   ]
  },
  {
   "cell_type": "markdown",
   "metadata": {},
   "source": [
    "## Tables and Column Names of Indicators/Variables\n",
    "### Update if excel input names change OR column names change"
   ]
  },
  {
   "cell_type": "code",
   "execution_count": 130,
   "metadata": {},
   "outputs": [],
   "source": [
    "# ------ AU_rank_vars = habitat_attribute_scores = 'AU Tier Spring CHN' and 'AU Tier Steelhead'\n",
    "AU_Rank_vars = { \n",
    " 'data_frame': ['habitat_quality_scores', 'habitat_quality_scores'  ], \n",
    " 'variable': ['AU Rank Sp CHN' , 'AU Rank STL'] \n",
    "} \n",
    "# create a dataframe \n",
    "AU_Rank_vars = pd.DataFrame(AU_Rank_vars, columns = ['data_frame', 'variable']) \n",
    "\n",
    "\n",
    "# ------ Reach_Confinement: confinement_scores = 'Score' -------\n",
    "Reach_Confinement_vars = { \n",
    " 'data_frame': ['confinement_scores' ], \n",
    " 'variable': ['Score'] \n",
    "} \n",
    "# create a dataframe \n",
    "Reach_Confinement_vars = pd.DataFrame(Reach_Confinement_vars, columns = ['data_frame', 'variable']) \n",
    "\n",
    "\n",
    "# ------ Sum_Life_Stage:   reach_life_stages = 'Sum_LifeStage'\n",
    "Sum_Life_Stage_vars = { \n",
    " 'data_frame': ['reach_life_stages'  ], \n",
    " 'variable': ['TotalNum_LS']\n",
    "    \n",
    "} \n",
    "# create a dataframe \n",
    "Sum_Life_Stage_vars = pd.DataFrame(Sum_Life_Stage_vars, columns = ['data_frame', 'variable']) \n",
    "\n",
    "\n",
    "# ------ Habitat_Quality_score: habitat_attribute_scores = 'DRAFT Habitat Attribute Score (Currently MAX Score OR \"0\" if NA)'\n",
    "Habitat_Quality_score_vars = { \n",
    " 'data_frame': ['habitat_quality_scores' ], \n",
    " 'variable': ['HQ_Score'] \n",
    "} \n",
    "# create a dataframe \n",
    "Habitat_Quality_score_vars = pd.DataFrame(Habitat_Quality_score_vars, columns = ['data_frame', 'variable']) \n"
   ]
  },
  {
   "cell_type": "markdown",
   "metadata": {},
   "source": [
    "## Output directory\n",
    "### Update if you want output path to change"
   ]
  },
  {
   "cell_type": "code",
   "execution_count": 131,
   "metadata": {},
   "outputs": [
    {
     "name": "stdout",
     "output_type": "stream",
     "text": [
      "output for Spring Chinook habitat quality table: \n",
      "Y:/UCRTT/Prioritization/Step 2/Habitat Evaluation/Step2_Prioritization_Python_Output/Habitat_Quality_Output_Spring_Chinook.xlsx\n",
      "   \n",
      "output for Steelhead habitat quality table: \n",
      "Y:/UCRTT/Prioritization/Step 2/Habitat Evaluation/Step2_Prioritization_Python_Output/Habitat_Quality_Output_Steelhead.xlsx\n"
     ]
    }
   ],
   "source": [
    "output_name_Spring_Chinook = 'Habitat_Quality_Output_Spring_Chinook.xlsx'\n",
    "output_name_Steelhead = 'Habitat_Quality_Output_Steelhead.xlsx'\n",
    "output_location = 'Y:/UCRTT/Prioritization/Step 2/Habitat Evaluation/Step2_Prioritization_Python_Output/'\n",
    "output_location_Spring_Chinook =  output_location + output_name_Spring_Chinook\n",
    "output_location_Steelhead =  output_location + output_name_Steelhead\n",
    "print('output for Spring Chinook habitat quality table: ')\n",
    "print(output_location_Spring_Chinook)\n",
    "print(\"   \")\n",
    "print('output for Steelhead habitat quality table: ' )\n",
    "print(output_location_Steelhead)"
   ]
  },
  {
   "cell_type": "markdown",
   "metadata": {},
   "source": [
    "## ---------------------------- Upload the Habitat Data Excel ---------------------------- "
   ]
  },
  {
   "cell_type": "markdown",
   "metadata": {},
   "source": [
    "### Open Habitat Analaysis Tabs: Habitat Attribute Score, Confinement Scores"
   ]
  },
  {
   "cell_type": "code",
   "execution_count": 100,
   "metadata": {},
   "outputs": [],
   "source": [
    "habitat_quality_scores = pd.read_excel('Y:/UCRTT/Prioritization/Step 2/Habitat Evaluation/MASTER_Step2_HabitatAnalysis.xlsx', \n",
    "                   'HabitatQuality_Scores', skiprows=[0])\n",
    "confinement_scores = pd.read_excel('Y:/UCRTT/Prioritization/Step 2/Habitat Evaluation/MASTER_Step2_HabitatAnalysis.xlsx', \n",
    "                   'Confinement_Scores')"
   ]
  },
  {
   "cell_type": "markdown",
   "metadata": {},
   "source": [
    "### Open Tables from Habitat Database: Reach Life Stage"
   ]
  },
  {
   "cell_type": "code",
   "execution_count": 101,
   "metadata": {},
   "outputs": [],
   "source": [
    "reach_life_stages_Spring_Chinook = pd.read_excel('Y:/UCRTT/Prioritization/Step 2/Habitat Evaluation/MASTER_Step2_HabitatAnalysis.xlsx', \n",
    "                   'Reaches Life Stage Spring Chino')\n",
    "reach_life_stages_Steelhead = pd.read_excel('Y:/UCRTT/Prioritization/Step 2/Habitat Evaluation/MASTER_Step2_HabitatAnalysis.xlsx', \n",
    "                   'Reaches Life Stage Steelhead')"
   ]
  },
  {
   "cell_type": "markdown",
   "metadata": {},
   "source": [
    "## ---------------------------- Use Criteria to Generate Table for Spring Chinook ----------------------------"
   ]
  },
  {
   "cell_type": "markdown",
   "metadata": {},
   "source": [
    "### Filter out to only have Spring Chinook reaches"
   ]
  },
  {
   "cell_type": "code",
   "execution_count": 132,
   "metadata": {},
   "outputs": [
    {
     "name": "stdout",
     "output_type": "stream",
     "text": [
      "initial number of reaches: 739\n",
      "number of reaches after including only Spring Chinook reaches: 393\n"
     ]
    }
   ],
   "source": [
    "spring_chinook_reaches_true = ['yes']\n",
    "Spring_Chinook_data_frame = habitat_quality_scores.loc[habitat_quality_scores['Spring.Chinook.Reach'].isin(spring_chinook_reaches_true)] \n",
    "print('initial number of reaches: ' + str(habitat_quality_scores.shape[0]) )\n",
    "print('number of reaches after including only Spring Chinook reaches: ' + str(Spring_Chinook_data_frame.shape[0]) )"
   ]
  },
  {
   "cell_type": "markdown",
   "metadata": {},
   "source": [
    "### Filter out by AU Rank - NOTE - change \"variable\" based on species"
   ]
  },
  {
   "cell_type": "code",
   "execution_count": 133,
   "metadata": {},
   "outputs": [
    {
     "name": "stdout",
     "output_type": "stream",
     "text": [
      "number of reaches after AU criteria: 135\n"
     ]
    }
   ],
   "source": [
    "# NOTE: need to change variable to 0 or 1 (AU_Rank_vars['variable'][1]) based on species \n",
    "Spring_Chinook_data_frame = Spring_Chinook_data_frame.loc[Spring_Chinook_data_frame[AU_Rank_vars['variable'][0]].isin(AU_Rank)] \n",
    "print('number of reaches after AU criteria: ' + str(Spring_Chinook_data_frame.shape[0]) )"
   ]
  },
  {
   "cell_type": "markdown",
   "metadata": {},
   "source": [
    "### Filter out by Habitat Quality Score"
   ]
  },
  {
   "cell_type": "code",
   "execution_count": 134,
   "metadata": {},
   "outputs": [
    {
     "name": "stdout",
     "output_type": "stream",
     "text": [
      "habitat quality scores used for filter: [5]\n",
      "number of reaches/row after Habitat Quality Score criteria:84\n"
     ]
    }
   ],
   "source": [
    "Spring_Chinook_data_frame = Spring_Chinook_data_frame.loc[Spring_Chinook_data_frame[Habitat_Quality_score_vars['variable'][0]].isin(Habitat_Quality_score)] \n",
    "print('habitat quality scores used for filter: ' + str(Habitat_Quality_score))\n",
    "print('number of reaches/row after Habitat Quality Score criteria:' + str(Spring_Chinook_data_frame.shape[0]) )"
   ]
  },
  {
   "cell_type": "markdown",
   "metadata": {},
   "source": [
    "### Filter out by Reach Confinement"
   ]
  },
  {
   "cell_type": "code",
   "execution_count": 135,
   "metadata": {},
   "outputs": [
    {
     "name": "stdout",
     "output_type": "stream",
     "text": [
      "confinement scores used for criteria where 1 is higher percent confined, 5 is higher percent unconfined, based on USGS Valley Confinment Algorithm): [5]\n",
      "number of reaches/row after Reach Confinement criteria: 82\n"
     ]
    }
   ],
   "source": [
    "Confinement_Criteria = confinement_scores.loc[confinement_scores[Reach_Confinement_vars['variable'][0]].isin(Reach_Confinement)]\n",
    "Confinement_Criteria_Reaches = Confinement_Criteria.ReachName\n",
    "Spring_Chinook_data_frame = Spring_Chinook_data_frame.loc[Spring_Chinook_data_frame['ReachName'].isin(Confinement_Criteria_Reaches)] \n",
    "print('confinement scores used for criteria where 1 is higher percent confined, 5 is higher percent unconfined, based on USGS Valley Confinment Algorithm): ' + str(Reach_Confinement))\n",
    "print('number of reaches/row after Reach Confinement criteria: ' + str(Spring_Chinook_data_frame.shape[0]) )"
   ]
  },
  {
   "cell_type": "markdown",
   "metadata": {},
   "source": [
    "### Filter out by Sum Life Stage"
   ]
  },
  {
   "cell_type": "code",
   "execution_count": 136,
   "metadata": {},
   "outputs": [
    {
     "name": "stdout",
     "output_type": "stream",
     "text": [
      "number of reaches/row after Sum Life Stage criteria: 81\n"
     ]
    }
   ],
   "source": [
    "Sum_Life_Stage_Criteria = reach_life_stages_Spring_Chinook.loc[reach_life_stages_Spring_Chinook[Sum_Life_Stage_vars['variable'][0]].isin(Sum_Life_Stage)]\n",
    "Sum_Life_Stage_Criteria_Reaches = Sum_Life_Stage_Criteria.ReachName\n",
    "Spring_Chinook_data_frame = Spring_Chinook_data_frame.loc[Spring_Chinook_data_frame['ReachName'].isin(Sum_Life_Stage_Criteria_Reaches)] \n",
    "\n",
    "# ------------- Prep Sum Life Stage ----------\n",
    "Sum_Life_Stage_output = Sum_Life_Stage_Criteria.loc[Sum_Life_Stage_Criteria['ReachName'].isin(Spring_Chinook_data_frame.ReachName)] \n",
    "Sum_Life_Stage_output = Sum_Life_Stage_output[['ReachName',Sum_Life_Stage_vars['variable'][0]]]\n",
    "# ------- add life Stage Sum --------------\n",
    "Spring_Chinook_data_frame = Spring_Chinook_data_frame.sort_values(by = 'ReachName') \n",
    "Spring_Chinook_data_frame = pd.merge(Spring_Chinook_data_frame, Sum_Life_Stage_output, on=['ReachName'])\n",
    "\n",
    "print('number of reaches/row after Sum Life Stage criteria: ' + str(Spring_Chinook_data_frame.shape[0]) )"
   ]
  },
  {
   "cell_type": "markdown",
   "metadata": {},
   "source": [
    "## -------------------------------- Use Criteria to Generate Table for Steelhead --------------------------------"
   ]
  },
  {
   "cell_type": "markdown",
   "metadata": {},
   "source": [
    "### Filter out to only have Steelhead reaches"
   ]
  },
  {
   "cell_type": "code",
   "execution_count": 137,
   "metadata": {},
   "outputs": [
    {
     "name": "stdout",
     "output_type": "stream",
     "text": [
      "initial number of reaches: 739\n",
      "number of reaches after including only Steelhead reaches: 614\n"
     ]
    }
   ],
   "source": [
    "steelhead_reaches_true = ['yes']\n",
    "Steelhead_data_frame = habitat_quality_scores.loc[habitat_quality_scores['Steelhead.Reach'].isin(steelhead_reaches_true)] \n",
    "print('initial number of reaches: ' + str(habitat_quality_scores.shape[0]) )\n",
    "print('number of reaches after including only Steelhead reaches: ' + str(Steelhead_data_frame.shape[0]) )"
   ]
  },
  {
   "cell_type": "markdown",
   "metadata": {},
   "source": [
    "### Filter out by AU Rank - NOTE - change \"variable\" based on species"
   ]
  },
  {
   "cell_type": "code",
   "execution_count": 138,
   "metadata": {},
   "outputs": [
    {
     "name": "stdout",
     "output_type": "stream",
     "text": [
      "number of reaches after AU criteria: 227\n"
     ]
    }
   ],
   "source": [
    "# NOTE: need to change variable to 0 or 1 (AU_Rank_vars['variable'][1]) based on species \n",
    "Steelhead_data_frame = Steelhead_data_frame.loc[Steelhead_data_frame[AU_Rank_vars['variable'][1]].isin(AU_Rank)] \n",
    "print('number of reaches after AU criteria: ' + str(Steelhead_data_frame.shape[0]) )"
   ]
  },
  {
   "cell_type": "markdown",
   "metadata": {},
   "source": [
    "### Filter out by Habitat Quality Score"
   ]
  },
  {
   "cell_type": "code",
   "execution_count": 139,
   "metadata": {},
   "outputs": [
    {
     "name": "stdout",
     "output_type": "stream",
     "text": [
      "habitat quality scores used for filter: [5]\n",
      "number of reaches after Habitat Quality Score criteria: 108\n"
     ]
    }
   ],
   "source": [
    "Steelhead_data_frame = Steelhead_data_frame.loc[Steelhead_data_frame[Habitat_Quality_score_vars['variable'][0]].isin(Habitat_Quality_score)] \n",
    "print('habitat quality scores used for filter: ' + str(Habitat_Quality_score))\n",
    "print('number of reaches after Habitat Quality Score criteria: ' + str(Steelhead_data_frame.shape[0]) )"
   ]
  },
  {
   "cell_type": "markdown",
   "metadata": {},
   "source": [
    "### Filter out by Reach Confinement"
   ]
  },
  {
   "cell_type": "code",
   "execution_count": 140,
   "metadata": {},
   "outputs": [
    {
     "name": "stdout",
     "output_type": "stream",
     "text": [
      "confinement scores used for criteria where 1 is higher percent confined, 5 is higher percent unconfined, based on USGS Valley Confinment Algorithm): [5]\n",
      "number of reaches after Reach Confinement criteria: 104\n"
     ]
    }
   ],
   "source": [
    "Confinement_Criteria = confinement_scores.loc[confinement_scores[Reach_Confinement_vars['variable'][0]].isin(Reach_Confinement)]\n",
    "Confinement_Criteria_Reaches = Confinement_Criteria.ReachName\n",
    "Steelhead_data_frame = Steelhead_data_frame.loc[Steelhead_data_frame['ReachName'].isin(Confinement_Criteria_Reaches)] \n",
    "print('confinement scores used for criteria where 1 is higher percent confined, 5 is higher percent unconfined, based on USGS Valley Confinment Algorithm): ' + str(Reach_Confinement))\n",
    "print('number of reaches after Reach Confinement criteria: ' + str(Steelhead_data_frame.shape[0]) )"
   ]
  },
  {
   "cell_type": "markdown",
   "metadata": {},
   "source": [
    "### Filter out by Sum Life Stage"
   ]
  },
  {
   "cell_type": "code",
   "execution_count": 141,
   "metadata": {},
   "outputs": [
    {
     "name": "stdout",
     "output_type": "stream",
     "text": [
      "number of reaches after Sum Life Stage criteria: 103\n"
     ]
    }
   ],
   "source": [
    "Sum_Life_Stage_Criteria = reach_life_stages_Steelhead.loc[reach_life_stages_Steelhead[Sum_Life_Stage_vars['variable'][0]].isin(Sum_Life_Stage)]\n",
    "Sum_Life_Stage_Criteria_Reaches = Sum_Life_Stage_Criteria.ReachName\n",
    "Steelhead_data_frame = Steelhead_data_frame.loc[Steelhead_data_frame['ReachName'].isin(Sum_Life_Stage_Criteria_Reaches)]\n",
    "\n",
    "# ------------- Prep Sum Life Stage ----------\n",
    "Sum_Life_Stage_output = Sum_Life_Stage_Criteria.loc[Sum_Life_Stage_Criteria['ReachName'].isin(Steelhead_data_frame.ReachName)] \n",
    "Sum_Life_Stage_output = Sum_Life_Stage_output[['ReachName',Sum_Life_Stage_vars['variable'][0]]]\n",
    "# ------- add life Stage Sum --------------\n",
    "Steelhead_data_frame = Steelhead_data_frame.sort_values(by = 'ReachName') \n",
    "Steelhead_data_frame = pd.merge(Steelhead_data_frame, Sum_Life_Stage_output, on=['ReachName'])\n",
    "print('number of reaches after Sum Life Stage criteria: ' + str(Steelhead_data_frame.shape[0]) )"
   ]
  },
  {
   "cell_type": "markdown",
   "metadata": {},
   "source": [
    "# ------------------------- Diagnostic test to verifiy outputs are correct -----------------------\n",
    "#### Steps 1) Go into MASTER_Step2_HabitatAnalysis, then go to \"HabitatQuality_Scores\" tab\n",
    "####       2) in the MASTER... spreadsheet, choose criteria that matches with this output (of the five filters, that tab has all but confinment)\n",
    "####        ------a) Spring Chinook/Steelhead Reach: Spring.Chinook.Reach\n",
    "####        ------b) AU_Rank: AU Rank Sp CHN (for STLHD)\n",
    "####        ------c) Habitat_Quality_Score: HQ_Score\n",
    "####        ------d) Sum_Life_Stage: TotalNum_LS\n",
    "####       3) copy the \"filtered\" HabitatQuality_Scores spreadsheet, paste in a new excel spreadsheet and save\n",
    "####       3) make sure the criteria in this script is exact as in your filter (confinment should be [1, 3, 5])\n",
    "####       4) run the script below (with correct path to the saved spreadsheet)"
   ]
  },
  {
   "cell_type": "code",
   "execution_count": 142,
   "metadata": {},
   "outputs": [],
   "source": [
    "# -------------------------------------------------------------------------------------\n",
    "#            Reach Names generated from this scrpit \n",
    "# -------------------------------------------------------------------------------------\n",
    "\n",
    "python_script_output_Steelhead_ReachNames = Steelhead_data_frame.ReachName.tolist()\n",
    "python_script_output_Spring_Chinook_ReachNames = Spring_Chinook_data_frame.ReachName.tolist()\n",
    "# ----------- sort Reach Names so they are in order ----------\n",
    "python_script_output_Steelhead_ReachNames.sort()\n",
    "python_script_output_Spring_Chinook_ReachNames.sort()"
   ]
  },
  {
   "cell_type": "code",
   "execution_count": 93,
   "metadata": {},
   "outputs": [],
   "source": [
    "# -------------------------------------------------------------------------------------\n",
    "#            Reach Names generated from this scrpit (saved on 25.Sept.2020 w/ confinment = [1,3,5])\n",
    "# -------------------------------------------------------------------------------------\n",
    "#python_script_output_Steelhead_ReachNames = pd.read_excel('Y:/UCRTT/Prioritization/Step 2/Habitat Evaluation/Step2_Prioritization_Python_Output/Habitat_Quality_Output_Steelhead_Sept25.xlsx')\n",
    "#python_script_output_Spring_Chinook_ReachNames = pd.read_excel('Y:/UCRTT/Prioritization/Step 2/Habitat Evaluation/Step2_Prioritization_Python_Output/Habitat_Quality_Output_Spring_Chinook_Sept25.xlsx')\n",
    "# ---------------- Just get the Reach Name to list ----------\n",
    "#python_script_output_Steelhead_ReachNames = python_script_output_Steelhead_ReachNames.ReachName.tolist()\n",
    "#python_script_output_Spring_Chinook_ReachNames = python_script_output_Spring_Chinook_ReachNames.ReachName.tolist()\n",
    "#----------- sort Reach Names so they are in order ----------\n",
    "#python_script_output_Steelhead_ReachNames.sort()\n",
    "#python_script_output_Spring_Chinook_ReachNames.sort()\n"
   ]
  },
  {
   "cell_type": "code",
   "execution_count": 123,
   "metadata": {},
   "outputs": [],
   "source": [
    "# -------------------------------------------------------------------------------------\n",
    "#            Reach Names copied from MASTER_Step2_HabitatAnalysis\n",
    "# -------------------------------------------------------------------------------------\n",
    "\n",
    "# ------------------- Read in Saved Filter data (from MASTER_Step2_HabitatAnalysis excel file) -----------------\n",
    "HQ_Steelhead_filtered = pd.read_excel('Y:/UCRTT/Prioritization/Step 2/Habitat Evaluation/Step2_Prioritization_Python_Output/HQ_Steelhead_FROM_FILTER_IN_MASTER_Step2_HabitatAnalysis_12Oct.xlsx')\n",
    "HQ_Spring_Chinook_filtered = pd.read_excel('Y:/UCRTT/Prioritization/Step 2/Habitat Evaluation/Step2_Prioritization_Python_Output/HQ_SpringChinook_FROM_FILTER_IN_MASTER_Step2_HabitatAnalysis_12Oct.xlsx')\n",
    "# ---------------- Just get the Reach Name from filtered MASTER data ----------\n",
    "MASTER_output_Steelhead_ReachNames = HQ_Steelhead_filtered.ReachName.tolist()\n",
    "MASTER_output_Spring_Chinook_ReachNames = HQ_Spring_Chinook_filtered.ReachName.tolist()\n",
    "# ----------- sort Reach Names so they are in order ----------\n",
    "MASTER_output_Steelhead_ReachNames.sort()\n",
    "MASTER_output_Spring_Chinook_ReachNames.sort()"
   ]
  },
  {
   "cell_type": "code",
   "execution_count": null,
   "metadata": {},
   "outputs": [],
   "source": []
  },
  {
   "cell_type": "markdown",
   "metadata": {},
   "source": [
    "## --------------------- Script to output IF there are any reach discrepencies\n",
    "### have three outputs: \"MASTER_output_Steelhead_ReachNames identical list - test passed!\",\"Filtered MASTER data has extra reaches: BLANK\", OR \"Python script output data has extra reaches: BLANK\""
   ]
  },
  {
   "cell_type": "code",
   "execution_count": 124,
   "metadata": {},
   "outputs": [],
   "source": [
    "# ---------------------------------------------------------------\n",
    "#            Functions to identify discrepencies\n",
    "# ---------------------------------------------------------------\n",
    "\n",
    "def is_identical(list_a, list_b):\n",
    "    list_a.sort()\n",
    "    list_b.sort()\n",
    "    return list_a == list_b\n",
    "\n",
    "\n",
    "# this function outputs items in list_a that are not in list_b\n",
    "def get_difference(list_a, list_b):\n",
    "    list_a.sort()\n",
    "    list_b.sort()\n",
    "    return set(list_a)-set(list_b)\n",
    " \n",
    "# did not use this one\n",
    "l_func = lambda x, y: list((set(x)- set(y))) + list((set(y)- set(x))) \n"
   ]
  },
  {
   "cell_type": "markdown",
   "metadata": {},
   "source": [
    "## --------------------- Run IF loops ---------------------------"
   ]
  },
  {
   "cell_type": "code",
   "execution_count": 125,
   "metadata": {},
   "outputs": [
    {
     "name": "stdout",
     "output_type": "stream",
     "text": [
      "Two lists are identical.\n"
     ]
    }
   ],
   "source": [
    "\n",
    "# -------------------- Identify if lists are the same ------------\n",
    "\n",
    "if is_identical(MASTER_output_Steelhead_ReachNames, python_script_output_Steelhead_ReachNames):\n",
    "    print(\"Two lists are identical.\")\n",
    "else:\n",
    "    print(\"Two lists are different.\")\n",
    "    print(\"  \")"
   ]
  },
  {
   "cell_type": "code",
   "execution_count": 126,
   "metadata": {},
   "outputs": [
    {
     "name": "stdout",
     "output_type": "stream",
     "text": [
      "  \n"
     ]
    }
   ],
   "source": [
    "# ---------- gets \"extra\" reaches in MASTER_Step2_HabitatAnalysis ---------------\n",
    "if(len(get_difference(MASTER_output_Steelhead_ReachNames, python_script_output_Steelhead_ReachNames)) > 0):\n",
    "\n",
    "    reaches_MASTER = get_difference(MASTER_output_Steelhead_ReachNames, python_script_output_Steelhead_ReachNames)\n",
    "\n",
    "    print(\"List of 'extra' MASTER/Original reaches at 'reaches_MASTER', total is: \" + str(len(reaches_MASTER)))\n",
    "print(\"  \") \n",
    "\n",
    "# ---------- gets \"extra\" reaches generated by python script ---------------\n",
    "if(len(get_difference(python_script_output_Steelhead_ReachNames, MASTER_output_Steelhead_ReachNames)) > 0):\n",
    "    reaches_Python = get_difference(python_script_output_Steelhead_ReachNames, MASTER_output_Steelhead_ReachNames)\n",
    "    print(\"List of 'extra' Python script reaches at 'reaches_Python', total is: \" + str(len(reaches_Python)))"
   ]
  },
  {
   "cell_type": "markdown",
   "metadata": {},
   "source": [
    "##  -------------------------------- Save/Output  the data to specified directory -----------------------------\n",
    "### This is the output for the script, not the test"
   ]
  },
  {
   "cell_type": "code",
   "execution_count": 143,
   "metadata": {},
   "outputs": [],
   "source": [
    "# ------------ Add species name to output ---------------\n",
    "Spring_Chinook_data_frame['Species'] = \"Spring Chinook\"\n",
    "Steelhead_data_frame['Species'] = \"Steelhead\""
   ]
  },
  {
   "cell_type": "code",
   "execution_count": 144,
   "metadata": {},
   "outputs": [],
   "source": [
    "# ---------------- Save Spring Chinook -------------\n",
    "Spring_Chinook_data_frame.to_excel(output_location_Spring_Chinook, index = False)"
   ]
  },
  {
   "cell_type": "code",
   "execution_count": 145,
   "metadata": {},
   "outputs": [],
   "source": [
    "# -------------- Save Steelhead data ----------------\n",
    "Steelhead_data_frame.to_excel(output_location_Steelhead, index = False)"
   ]
  },
  {
   "cell_type": "code",
   "execution_count": null,
   "metadata": {},
   "outputs": [],
   "source": []
  },
  {
   "cell_type": "code",
   "execution_count": null,
   "metadata": {},
   "outputs": [],
   "source": []
  },
  {
   "cell_type": "code",
   "execution_count": null,
   "metadata": {},
   "outputs": [],
   "source": []
  },
  {
   "cell_type": "code",
   "execution_count": null,
   "metadata": {},
   "outputs": [],
   "source": []
  },
  {
   "cell_type": "code",
   "execution_count": null,
   "metadata": {},
   "outputs": [],
   "source": []
  },
  {
   "cell_type": "code",
   "execution_count": null,
   "metadata": {},
   "outputs": [],
   "source": []
  },
  {
   "cell_type": "code",
   "execution_count": null,
   "metadata": {},
   "outputs": [],
   "source": []
  },
  {
   "cell_type": "code",
   "execution_count": null,
   "metadata": {},
   "outputs": [],
   "source": []
  },
  {
   "cell_type": "markdown",
   "metadata": {},
   "source": [
    "##  -------------------------------- Print/Explore Data  -------------------------------"
   ]
  },
  {
   "cell_type": "code",
   "execution_count": null,
   "metadata": {},
   "outputs": [],
   "source": []
  },
  {
   "cell_type": "code",
   "execution_count": 17,
   "metadata": {},
   "outputs": [],
   "source": [
    "# Sum_Life_Stage_Criteria[Sum_Life_Stage_Criteria.AssessmentUnit.isin(['Lower Chiwawa River '])]"
   ]
  },
  {
   "cell_type": "code",
   "execution_count": 66,
   "metadata": {},
   "outputs": [
    {
     "data": {
      "text/plain": [
       "array(['Chewuch River-Pearrygin Creek', 'Entiat River-Lake Creek',\n",
       "       'Methow River-Fawn Creek', 'Methow River-Rattlesnake Creek',\n",
       "       'Lower Nason Creek ', 'Lower Twisp River ',\n",
       "       'Wenatchee River-Beaver Creek', 'Chewuch River-Doe Creek',\n",
       "       'Entiat River-Potato Creek', 'Entiat River-Preston Creek',\n",
       "       'Middle Twisp River '], dtype=object)"
      ]
     },
     "execution_count": 66,
     "metadata": {},
     "output_type": "execute_result"
    }
   ],
   "source": [
    "Spring_Chinook_data_frame['Assessment Unit'].unique()"
   ]
  },
  {
   "cell_type": "code",
   "execution_count": 67,
   "metadata": {},
   "outputs": [
    {
     "data": {
      "text/html": [
       "<div>\n",
       "<style scoped>\n",
       "    .dataframe tbody tr th:only-of-type {\n",
       "        vertical-align: middle;\n",
       "    }\n",
       "\n",
       "    .dataframe tbody tr th {\n",
       "        vertical-align: top;\n",
       "    }\n",
       "\n",
       "    .dataframe thead th {\n",
       "        text-align: right;\n",
       "    }\n",
       "</style>\n",
       "<table border=\"1\" class=\"dataframe\">\n",
       "  <thead>\n",
       "    <tr style=\"text-align: right;\">\n",
       "      <th></th>\n",
       "      <th>ReachName</th>\n",
       "      <th>Assessment Unit</th>\n",
       "      <th>Subbasin</th>\n",
       "      <th>Spring.Chinook.Reach</th>\n",
       "      <th>Steelhead.Reach</th>\n",
       "      <th>AU Rank Sp CHN</th>\n",
       "      <th>AU Rank STL</th>\n",
       "      <th>Temperature</th>\n",
       "      <th>Flow- Summer Base Flow</th>\n",
       "      <th>Riparian- Structure</th>\n",
       "      <th>...</th>\n",
       "      <th>Off-Channel- Floodplain</th>\n",
       "      <th>Off-Channel- Side-Channels</th>\n",
       "      <th>Off-Channel</th>\n",
       "      <th>Channel Stability</th>\n",
       "      <th>Bank Stability</th>\n",
       "      <th>Stability</th>\n",
       "      <th>HQ_Sum</th>\n",
       "      <th>HQ_Pct</th>\n",
       "      <th>HQ_Score</th>\n",
       "      <th>Reviewer Comments (please note your suggested change [0, 3, or 5] and document your rationale for changing the value.</th>\n",
       "    </tr>\n",
       "  </thead>\n",
       "  <tbody>\n",
       "    <tr>\n",
       "      <th>540</th>\n",
       "      <td>Chewuch River Pearrygin 07</td>\n",
       "      <td>Chewuch River-Pearrygin Creek</td>\n",
       "      <td>Methow</td>\n",
       "      <td>yes</td>\n",
       "      <td>yes</td>\n",
       "      <td>1</td>\n",
       "      <td>1</td>\n",
       "      <td>1.0</td>\n",
       "      <td>3.0</td>\n",
       "      <td>3.0</td>\n",
       "      <td>...</td>\n",
       "      <td>1.0</td>\n",
       "      <td>3.0</td>\n",
       "      <td>2.0</td>\n",
       "      <td>3.0</td>\n",
       "      <td>3.0</td>\n",
       "      <td>3.0</td>\n",
       "      <td>22.333333</td>\n",
       "      <td>0.558333</td>\n",
       "      <td>5.0</td>\n",
       "      <td>NaN</td>\n",
       "    </tr>\n",
       "    <tr>\n",
       "      <th>542</th>\n",
       "      <td>Chewuch River Pearrygin 10</td>\n",
       "      <td>Chewuch River-Pearrygin Creek</td>\n",
       "      <td>Methow</td>\n",
       "      <td>yes</td>\n",
       "      <td>yes</td>\n",
       "      <td>1</td>\n",
       "      <td>1</td>\n",
       "      <td>1.0</td>\n",
       "      <td>3.0</td>\n",
       "      <td>NaN</td>\n",
       "      <td>...</td>\n",
       "      <td>1.0</td>\n",
       "      <td>3.0</td>\n",
       "      <td>2.0</td>\n",
       "      <td>3.0</td>\n",
       "      <td>3.0</td>\n",
       "      <td>3.0</td>\n",
       "      <td>23.000000</td>\n",
       "      <td>0.575000</td>\n",
       "      <td>5.0</td>\n",
       "      <td>NaN</td>\n",
       "    </tr>\n",
       "    <tr>\n",
       "      <th>543</th>\n",
       "      <td>Chewuch River Pearrygin 11</td>\n",
       "      <td>Chewuch River-Pearrygin Creek</td>\n",
       "      <td>Methow</td>\n",
       "      <td>yes</td>\n",
       "      <td>yes</td>\n",
       "      <td>1</td>\n",
       "      <td>1</td>\n",
       "      <td>1.0</td>\n",
       "      <td>3.0</td>\n",
       "      <td>NaN</td>\n",
       "      <td>...</td>\n",
       "      <td>1.0</td>\n",
       "      <td>3.0</td>\n",
       "      <td>2.0</td>\n",
       "      <td>3.0</td>\n",
       "      <td>3.0</td>\n",
       "      <td>3.0</td>\n",
       "      <td>23.000000</td>\n",
       "      <td>0.575000</td>\n",
       "      <td>5.0</td>\n",
       "      <td>NaN</td>\n",
       "    </tr>\n",
       "    <tr>\n",
       "      <th>627</th>\n",
       "      <td>Chewuch River Pearrygin 01</td>\n",
       "      <td>Chewuch River-Pearrygin Creek</td>\n",
       "      <td>Methow</td>\n",
       "      <td>yes</td>\n",
       "      <td>yes</td>\n",
       "      <td>1</td>\n",
       "      <td>1</td>\n",
       "      <td>1.0</td>\n",
       "      <td>3.0</td>\n",
       "      <td>3.0</td>\n",
       "      <td>...</td>\n",
       "      <td>5.0</td>\n",
       "      <td>5.0</td>\n",
       "      <td>5.0</td>\n",
       "      <td>5.0</td>\n",
       "      <td>5.0</td>\n",
       "      <td>5.0</td>\n",
       "      <td>26.000000</td>\n",
       "      <td>0.650000</td>\n",
       "      <td>4.0</td>\n",
       "      <td>NaN</td>\n",
       "    </tr>\n",
       "    <tr>\n",
       "      <th>628</th>\n",
       "      <td>Chewuch River Pearrygin 02</td>\n",
       "      <td>Chewuch River-Pearrygin Creek</td>\n",
       "      <td>Methow</td>\n",
       "      <td>yes</td>\n",
       "      <td>yes</td>\n",
       "      <td>1</td>\n",
       "      <td>1</td>\n",
       "      <td>1.0</td>\n",
       "      <td>3.0</td>\n",
       "      <td>3.0</td>\n",
       "      <td>...</td>\n",
       "      <td>5.0</td>\n",
       "      <td>5.0</td>\n",
       "      <td>5.0</td>\n",
       "      <td>5.0</td>\n",
       "      <td>5.0</td>\n",
       "      <td>5.0</td>\n",
       "      <td>26.000000</td>\n",
       "      <td>0.650000</td>\n",
       "      <td>4.0</td>\n",
       "      <td>NaN</td>\n",
       "    </tr>\n",
       "    <tr>\n",
       "      <th>629</th>\n",
       "      <td>Chewuch River Pearrygin 03</td>\n",
       "      <td>Chewuch River-Pearrygin Creek</td>\n",
       "      <td>Methow</td>\n",
       "      <td>yes</td>\n",
       "      <td>yes</td>\n",
       "      <td>1</td>\n",
       "      <td>1</td>\n",
       "      <td>1.0</td>\n",
       "      <td>3.0</td>\n",
       "      <td>3.0</td>\n",
       "      <td>...</td>\n",
       "      <td>3.0</td>\n",
       "      <td>3.0</td>\n",
       "      <td>3.0</td>\n",
       "      <td>5.0</td>\n",
       "      <td>5.0</td>\n",
       "      <td>5.0</td>\n",
       "      <td>25.333333</td>\n",
       "      <td>0.633333</td>\n",
       "      <td>4.0</td>\n",
       "      <td>NaN</td>\n",
       "    </tr>\n",
       "    <tr>\n",
       "      <th>630</th>\n",
       "      <td>Chewuch River Pearrygin 04</td>\n",
       "      <td>Chewuch River-Pearrygin Creek</td>\n",
       "      <td>Methow</td>\n",
       "      <td>yes</td>\n",
       "      <td>yes</td>\n",
       "      <td>1</td>\n",
       "      <td>1</td>\n",
       "      <td>1.0</td>\n",
       "      <td>3.0</td>\n",
       "      <td>3.0</td>\n",
       "      <td>...</td>\n",
       "      <td>3.0</td>\n",
       "      <td>3.0</td>\n",
       "      <td>3.0</td>\n",
       "      <td>5.0</td>\n",
       "      <td>5.0</td>\n",
       "      <td>5.0</td>\n",
       "      <td>25.333333</td>\n",
       "      <td>0.633333</td>\n",
       "      <td>4.0</td>\n",
       "      <td>NaN</td>\n",
       "    </tr>\n",
       "    <tr>\n",
       "      <th>631</th>\n",
       "      <td>Chewuch River Pearrygin 05</td>\n",
       "      <td>Chewuch River-Pearrygin Creek</td>\n",
       "      <td>Methow</td>\n",
       "      <td>yes</td>\n",
       "      <td>yes</td>\n",
       "      <td>1</td>\n",
       "      <td>1</td>\n",
       "      <td>1.0</td>\n",
       "      <td>3.0</td>\n",
       "      <td>5.0</td>\n",
       "      <td>...</td>\n",
       "      <td>3.0</td>\n",
       "      <td>3.0</td>\n",
       "      <td>3.0</td>\n",
       "      <td>3.0</td>\n",
       "      <td>3.0</td>\n",
       "      <td>3.0</td>\n",
       "      <td>25.333333</td>\n",
       "      <td>0.633333</td>\n",
       "      <td>4.0</td>\n",
       "      <td>NaN</td>\n",
       "    </tr>\n",
       "    <tr>\n",
       "      <th>632</th>\n",
       "      <td>Chewuch River Pearrygin 06</td>\n",
       "      <td>Chewuch River-Pearrygin Creek</td>\n",
       "      <td>Methow</td>\n",
       "      <td>yes</td>\n",
       "      <td>yes</td>\n",
       "      <td>1</td>\n",
       "      <td>1</td>\n",
       "      <td>1.0</td>\n",
       "      <td>3.0</td>\n",
       "      <td>5.0</td>\n",
       "      <td>...</td>\n",
       "      <td>3.0</td>\n",
       "      <td>3.0</td>\n",
       "      <td>3.0</td>\n",
       "      <td>3.0</td>\n",
       "      <td>3.0</td>\n",
       "      <td>3.0</td>\n",
       "      <td>25.333333</td>\n",
       "      <td>0.633333</td>\n",
       "      <td>4.0</td>\n",
       "      <td>NaN</td>\n",
       "    </tr>\n",
       "    <tr>\n",
       "      <th>633</th>\n",
       "      <td>Chewuch River Pearrygin 08</td>\n",
       "      <td>Chewuch River-Pearrygin Creek</td>\n",
       "      <td>Methow</td>\n",
       "      <td>yes</td>\n",
       "      <td>yes</td>\n",
       "      <td>1</td>\n",
       "      <td>1</td>\n",
       "      <td>1.0</td>\n",
       "      <td>3.0</td>\n",
       "      <td>NaN</td>\n",
       "      <td>...</td>\n",
       "      <td>5.0</td>\n",
       "      <td>5.0</td>\n",
       "      <td>5.0</td>\n",
       "      <td>5.0</td>\n",
       "      <td>5.0</td>\n",
       "      <td>5.0</td>\n",
       "      <td>29.000000</td>\n",
       "      <td>0.725000</td>\n",
       "      <td>4.0</td>\n",
       "      <td>NaN</td>\n",
       "    </tr>\n",
       "  </tbody>\n",
       "</table>\n",
       "<p>10 rows × 26 columns</p>\n",
       "</div>"
      ],
      "text/plain": [
       "                      ReachName                Assessment Unit Subbasin  \\\n",
       "540  Chewuch River Pearrygin 07  Chewuch River-Pearrygin Creek   Methow   \n",
       "542  Chewuch River Pearrygin 10  Chewuch River-Pearrygin Creek   Methow   \n",
       "543  Chewuch River Pearrygin 11  Chewuch River-Pearrygin Creek   Methow   \n",
       "627  Chewuch River Pearrygin 01  Chewuch River-Pearrygin Creek   Methow   \n",
       "628  Chewuch River Pearrygin 02  Chewuch River-Pearrygin Creek   Methow   \n",
       "629  Chewuch River Pearrygin 03  Chewuch River-Pearrygin Creek   Methow   \n",
       "630  Chewuch River Pearrygin 04  Chewuch River-Pearrygin Creek   Methow   \n",
       "631  Chewuch River Pearrygin 05  Chewuch River-Pearrygin Creek   Methow   \n",
       "632  Chewuch River Pearrygin 06  Chewuch River-Pearrygin Creek   Methow   \n",
       "633  Chewuch River Pearrygin 08  Chewuch River-Pearrygin Creek   Methow   \n",
       "\n",
       "    Spring.Chinook.Reach Steelhead.Reach AU Rank Sp CHN AU Rank STL  \\\n",
       "540                  yes             yes              1           1   \n",
       "542                  yes             yes              1           1   \n",
       "543                  yes             yes              1           1   \n",
       "627                  yes             yes              1           1   \n",
       "628                  yes             yes              1           1   \n",
       "629                  yes             yes              1           1   \n",
       "630                  yes             yes              1           1   \n",
       "631                  yes             yes              1           1   \n",
       "632                  yes             yes              1           1   \n",
       "633                  yes             yes              1           1   \n",
       "\n",
       "     Temperature  Flow- Summer Base Flow  Riparian- Structure  ...  \\\n",
       "540          1.0                     3.0                  3.0  ...   \n",
       "542          1.0                     3.0                  NaN  ...   \n",
       "543          1.0                     3.0                  NaN  ...   \n",
       "627          1.0                     3.0                  3.0  ...   \n",
       "628          1.0                     3.0                  3.0  ...   \n",
       "629          1.0                     3.0                  3.0  ...   \n",
       "630          1.0                     3.0                  3.0  ...   \n",
       "631          1.0                     3.0                  5.0  ...   \n",
       "632          1.0                     3.0                  5.0  ...   \n",
       "633          1.0                     3.0                  NaN  ...   \n",
       "\n",
       "     Off-Channel- Floodplain  Off-Channel- Side-Channels  Off-Channel  \\\n",
       "540                      1.0                         3.0          2.0   \n",
       "542                      1.0                         3.0          2.0   \n",
       "543                      1.0                         3.0          2.0   \n",
       "627                      5.0                         5.0          5.0   \n",
       "628                      5.0                         5.0          5.0   \n",
       "629                      3.0                         3.0          3.0   \n",
       "630                      3.0                         3.0          3.0   \n",
       "631                      3.0                         3.0          3.0   \n",
       "632                      3.0                         3.0          3.0   \n",
       "633                      5.0                         5.0          5.0   \n",
       "\n",
       "     Channel Stability  Bank Stability  Stability     HQ_Sum    HQ_Pct  \\\n",
       "540                3.0             3.0        3.0  22.333333  0.558333   \n",
       "542                3.0             3.0        3.0  23.000000  0.575000   \n",
       "543                3.0             3.0        3.0  23.000000  0.575000   \n",
       "627                5.0             5.0        5.0  26.000000  0.650000   \n",
       "628                5.0             5.0        5.0  26.000000  0.650000   \n",
       "629                5.0             5.0        5.0  25.333333  0.633333   \n",
       "630                5.0             5.0        5.0  25.333333  0.633333   \n",
       "631                3.0             3.0        3.0  25.333333  0.633333   \n",
       "632                3.0             3.0        3.0  25.333333  0.633333   \n",
       "633                5.0             5.0        5.0  29.000000  0.725000   \n",
       "\n",
       "     HQ_Score  \\\n",
       "540       5.0   \n",
       "542       5.0   \n",
       "543       5.0   \n",
       "627       4.0   \n",
       "628       4.0   \n",
       "629       4.0   \n",
       "630       4.0   \n",
       "631       4.0   \n",
       "632       4.0   \n",
       "633       4.0   \n",
       "\n",
       "     Reviewer Comments (please note your suggested change [0, 3, or 5] and document your rationale for changing the value.  \n",
       "540                                                NaN                                                                      \n",
       "542                                                NaN                                                                      \n",
       "543                                                NaN                                                                      \n",
       "627                                                NaN                                                                      \n",
       "628                                                NaN                                                                      \n",
       "629                                                NaN                                                                      \n",
       "630                                                NaN                                                                      \n",
       "631                                                NaN                                                                      \n",
       "632                                                NaN                                                                      \n",
       "633                                                NaN                                                                      \n",
       "\n",
       "[10 rows x 26 columns]"
      ]
     },
     "execution_count": 67,
     "metadata": {},
     "output_type": "execute_result"
    }
   ],
   "source": [
    "Spring_Chinook_data_frame[Spring_Chinook_data_frame['Assessment Unit'].isin(['Chewuch River-Pearrygin Creek'])]"
   ]
  },
  {
   "cell_type": "code",
   "execution_count": 77,
   "metadata": {},
   "outputs": [
    {
     "data": {
      "text/plain": [
       "array(['Aeneas Creek Okanogan', 'Alder Creek-Methow River ',\n",
       "       'Andrews Creek ', 'Bear Creek ', 'Big Meadow Creek ',\n",
       "       'Black Canyon Creek ', 'Boulder Creek ', 'Buttermilk Creek',\n",
       "       'Cedar Creek', 'Chewuch River-Doe Creek',\n",
       "       'Chewuch River-Kay Creek', 'Chewuch River-Pearrygin Creek',\n",
       "       'Chewuch River-Thirtymile Creek', 'Chikamin Creek',\n",
       "       'Chiwaukum Creek', 'Chiwawa River Headwaters ', 'Chumstick Creek',\n",
       "       'Cub Creek', 'Diamond Creek', 'Eagle Creek (Methow)',\n",
       "       'Eagle Creek (Wenatchee)', 'Early Winters Creek',\n",
       "       'East Fork Mission Creek', 'Eight Mile Creek',\n",
       "       'Entiat River-Lake Creek', 'Entiat River-Mills Creek',\n",
       "       'Entiat River-Potato Creek', 'Entiat River-Preston Creek',\n",
       "       'Eureka Creek Methow', 'Falls Creek Methow',\n",
       "       'French Creek (Wenatchee)', 'Goat Creek ', 'Gold Creek',\n",
       "       'Ingalls Creek ', 'Jack Creek ', 'Johnson Creek',\n",
       "       'Lake Creek (Methow)', 'Lake Creek (Wenatchee)', 'Lake Wenatchee ',\n",
       "       'Libby Creek ', 'Little Bridge Creek ', 'Lower Antoine Creek',\n",
       "       'Lower Beaver Creek ', 'Lower Bonaparte Creek',\n",
       "       'Lower Chiwawa River ', 'Lower Icicle Creek ',\n",
       "       'Lower Little Wenatchee River ', 'Lower Lost River ',\n",
       "       'Lower Loup Loup Creek', 'Lower Loup Loup Creek ',\n",
       "       'Lower Mad River ', 'Lower Nason Creek ', 'Lower Omak Creek ',\n",
       "       'Lower Peshastin Creek ', 'Lower Siwash Creek ',\n",
       "       'Lower Tunk Creek ', 'Lower Twisp River ', 'Lower White River ',\n",
       "       'Methow River-Alta Coulee', 'Methow River-Fawn Creek',\n",
       "       'Methow River-McFarland Creek', 'Methow River-Rattlesnake Creek',\n",
       "       'Methow River-Texas Creek', 'Methow River-Thompson Creek',\n",
       "       'Middle Chiwawa River ', 'Middle Icicle Creek ',\n",
       "       'Middle Little Wenatchee River ', 'Middle Omak Creek ',\n",
       "       'Middle Twisp River ', 'Mission Creek-Brender Creek', 'Mud Creek',\n",
       "       'Napeequa River ', 'Okanogan River-Alkali Lake',\n",
       "       'Okanogan River-Davis Canyon', 'Okanogan River-Mosquito Creek',\n",
       "       'Okanogan River-Nine Mile Creek', 'Okanogan River-Swipkin Canyon',\n",
       "       'Okanogan River-Tallant Creek', 'Okanogan River-Whitestone Coulee',\n",
       "       'Panther Creek ', 'Phelps Creek ', 'Rainy Creek ',\n",
       "       'Roaring Creek ', 'Robinson Creek ', 'Rock Creek ',\n",
       "       'Salmon Creek-Green Lake', 'Sand Creek ',\n",
       "       'Similkameen River-Ellemeham Draw', 'South Creek ',\n",
       "       'South Fork Beaver Creek ', 'South Fork Gold Creek ',\n",
       "       'Squaw Creek ', 'Tillicum Creek ', 'Tonasket Creek ',\n",
       "       'Twenty Mile Creek ', 'Twisp River Headwaters ',\n",
       "       'Upper Beaver Creek ', 'Upper Chiwawa River ',\n",
       "       'Upper Icicle Creek ', 'Upper Little Wenatchee River ',\n",
       "       'Upper Lost River ', 'Upper Mad River ', 'Upper Nason Creek ',\n",
       "       'Upper Omak Creek', 'Upper Peshastin Creek ', 'Upper Twisp River ',\n",
       "       'Upper White River ', 'Wanacut Creek ', 'War Creek ',\n",
       "       'Wenatchee River-Beaver Creek', 'Wenatchee River-Derby Canyon',\n",
       "       'Wenatchee River-Nahahum Canyon ', 'Wenatchee River-Ollala Canyon',\n",
       "       'Wenatchee River-Tumwater Canyon', 'West Fork Methow River ',\n",
       "       'Whitepine Creek ', 'Whitestone Creek ', 'Wildhorse Spring Creek',\n",
       "       'Wolf Creek '], dtype=object)"
      ]
     },
     "execution_count": 77,
     "metadata": {},
     "output_type": "execute_result"
    }
   ],
   "source": [
    "confinement_scores['Assessment Unit'].sort_values().unique()"
   ]
  },
  {
   "cell_type": "code",
   "execution_count": 78,
   "metadata": {},
   "outputs": [
    {
     "data": {
      "text/html": [
       "<div>\n",
       "<style scoped>\n",
       "    .dataframe tbody tr th:only-of-type {\n",
       "        vertical-align: middle;\n",
       "    }\n",
       "\n",
       "    .dataframe tbody tr th {\n",
       "        vertical-align: top;\n",
       "    }\n",
       "\n",
       "    .dataframe thead th {\n",
       "        text-align: right;\n",
       "    }\n",
       "</style>\n",
       "<table border=\"1\" class=\"dataframe\">\n",
       "  <thead>\n",
       "    <tr style=\"text-align: right;\">\n",
       "      <th></th>\n",
       "      <th>ReachName</th>\n",
       "      <th>Assessment Unit</th>\n",
       "      <th>Subbasin</th>\n",
       "      <th>Unconfined_mi</th>\n",
       "      <th>Confined_mi</th>\n",
       "      <th>Unconfined_Total</th>\n",
       "      <th>Unconfined_Pct</th>\n",
       "      <th>Confined_Pct</th>\n",
       "      <th>Score</th>\n",
       "      <th>Reviewer Comments (please note your suggested change [0, 3, or 5] and document your rationale for changing the value.</th>\n",
       "    </tr>\n",
       "  </thead>\n",
       "  <tbody>\n",
       "    <tr>\n",
       "      <th>2</th>\n",
       "      <td>Alder Creek 01</td>\n",
       "      <td>Lower Chiwawa River</td>\n",
       "      <td>Wenatchee</td>\n",
       "      <td>0.750322</td>\n",
       "      <td>0.029233</td>\n",
       "      <td>0.779554</td>\n",
       "      <td>96.250164</td>\n",
       "      <td>3.749965</td>\n",
       "      <td>5</td>\n",
       "      <td>NaN</td>\n",
       "    </tr>\n",
       "    <tr>\n",
       "      <th>3</th>\n",
       "      <td>Alder Creek 02</td>\n",
       "      <td>Lower Chiwawa River</td>\n",
       "      <td>Wenatchee</td>\n",
       "      <td>NaN</td>\n",
       "      <td>1.388638</td>\n",
       "      <td>1.388638</td>\n",
       "      <td>0.000000</td>\n",
       "      <td>100.000000</td>\n",
       "      <td>1</td>\n",
       "      <td>NaN</td>\n",
       "    </tr>\n",
       "    <tr>\n",
       "      <th>51</th>\n",
       "      <td>Brush Creek 01</td>\n",
       "      <td>Lower Chiwawa River</td>\n",
       "      <td>Wenatchee</td>\n",
       "      <td>0.225947</td>\n",
       "      <td>0.079009</td>\n",
       "      <td>0.304956</td>\n",
       "      <td>74.091672</td>\n",
       "      <td>25.908328</td>\n",
       "      <td>5</td>\n",
       "      <td>NaN</td>\n",
       "    </tr>\n",
       "    <tr>\n",
       "      <th>52</th>\n",
       "      <td>Brush Creek 02</td>\n",
       "      <td>Lower Chiwawa River</td>\n",
       "      <td>Wenatchee</td>\n",
       "      <td>0.172058</td>\n",
       "      <td>0.490075</td>\n",
       "      <td>0.662133</td>\n",
       "      <td>25.985414</td>\n",
       "      <td>74.014586</td>\n",
       "      <td>1</td>\n",
       "      <td>NaN</td>\n",
       "    </tr>\n",
       "    <tr>\n",
       "      <th>105</th>\n",
       "      <td>Chiwawa River Lower 01</td>\n",
       "      <td>Lower Chiwawa River</td>\n",
       "      <td>Wenatchee</td>\n",
       "      <td>1.598516</td>\n",
       "      <td>0.296404</td>\n",
       "      <td>1.894920</td>\n",
       "      <td>84.357968</td>\n",
       "      <td>15.642032</td>\n",
       "      <td>5</td>\n",
       "      <td>NaN</td>\n",
       "    </tr>\n",
       "    <tr>\n",
       "      <th>106</th>\n",
       "      <td>Chiwawa River Lower 02</td>\n",
       "      <td>Lower Chiwawa River</td>\n",
       "      <td>Wenatchee</td>\n",
       "      <td>0.602521</td>\n",
       "      <td>0.427176</td>\n",
       "      <td>1.029697</td>\n",
       "      <td>58.514398</td>\n",
       "      <td>41.485602</td>\n",
       "      <td>3</td>\n",
       "      <td>NaN</td>\n",
       "    </tr>\n",
       "    <tr>\n",
       "      <th>107</th>\n",
       "      <td>Chiwawa River Lower 03</td>\n",
       "      <td>Lower Chiwawa River</td>\n",
       "      <td>Wenatchee</td>\n",
       "      <td>0.818099</td>\n",
       "      <td>1.722761</td>\n",
       "      <td>2.540860</td>\n",
       "      <td>32.197720</td>\n",
       "      <td>67.802280</td>\n",
       "      <td>3</td>\n",
       "      <td>NaN</td>\n",
       "    </tr>\n",
       "    <tr>\n",
       "      <th>108</th>\n",
       "      <td>Chiwawa River Lower 04</td>\n",
       "      <td>Lower Chiwawa River</td>\n",
       "      <td>Wenatchee</td>\n",
       "      <td>0.526914</td>\n",
       "      <td>1.157180</td>\n",
       "      <td>1.684093</td>\n",
       "      <td>31.287702</td>\n",
       "      <td>68.712357</td>\n",
       "      <td>3</td>\n",
       "      <td>NaN</td>\n",
       "    </tr>\n",
       "    <tr>\n",
       "      <th>109</th>\n",
       "      <td>Chiwawa River Lower 05</td>\n",
       "      <td>Lower Chiwawa River</td>\n",
       "      <td>Wenatchee</td>\n",
       "      <td>0.284754</td>\n",
       "      <td>2.100927</td>\n",
       "      <td>2.385681</td>\n",
       "      <td>11.935963</td>\n",
       "      <td>88.064037</td>\n",
       "      <td>1</td>\n",
       "      <td>NaN</td>\n",
       "    </tr>\n",
       "    <tr>\n",
       "      <th>110</th>\n",
       "      <td>Chiwawa River Lower 06</td>\n",
       "      <td>Lower Chiwawa River</td>\n",
       "      <td>Wenatchee</td>\n",
       "      <td>0.973131</td>\n",
       "      <td>0.665105</td>\n",
       "      <td>1.638236</td>\n",
       "      <td>59.401149</td>\n",
       "      <td>40.598851</td>\n",
       "      <td>3</td>\n",
       "      <td>NaN</td>\n",
       "    </tr>\n",
       "    <tr>\n",
       "      <th>111</th>\n",
       "      <td>Chiwawa River Lower 07</td>\n",
       "      <td>Lower Chiwawa River</td>\n",
       "      <td>Wenatchee</td>\n",
       "      <td>0.332511</td>\n",
       "      <td>1.594966</td>\n",
       "      <td>1.927477</td>\n",
       "      <td>17.251101</td>\n",
       "      <td>82.748899</td>\n",
       "      <td>1</td>\n",
       "      <td>NaN</td>\n",
       "    </tr>\n",
       "    <tr>\n",
       "      <th>131</th>\n",
       "      <td>Clear Creek 01</td>\n",
       "      <td>Lower Chiwawa River</td>\n",
       "      <td>Wenatchee</td>\n",
       "      <td>0.466707</td>\n",
       "      <td>0.057314</td>\n",
       "      <td>0.524021</td>\n",
       "      <td>89.062652</td>\n",
       "      <td>10.937348</td>\n",
       "      <td>5</td>\n",
       "      <td>NaN</td>\n",
       "    </tr>\n",
       "    <tr>\n",
       "      <th>132</th>\n",
       "      <td>Clear Creek 02</td>\n",
       "      <td>Lower Chiwawa River</td>\n",
       "      <td>Wenatchee</td>\n",
       "      <td>0.134998</td>\n",
       "      <td>1.315350</td>\n",
       "      <td>1.450347</td>\n",
       "      <td>9.307979</td>\n",
       "      <td>90.692090</td>\n",
       "      <td>1</td>\n",
       "      <td>NaN</td>\n",
       "    </tr>\n",
       "    <tr>\n",
       "      <th>217</th>\n",
       "      <td>Gate Creek 01</td>\n",
       "      <td>Lower Chiwawa River</td>\n",
       "      <td>Wenatchee</td>\n",
       "      <td>0.783650</td>\n",
       "      <td>0.545875</td>\n",
       "      <td>1.329525</td>\n",
       "      <td>58.942103</td>\n",
       "      <td>41.057897</td>\n",
       "      <td>3</td>\n",
       "      <td>NaN</td>\n",
       "    </tr>\n",
       "    <tr>\n",
       "      <th>238</th>\n",
       "      <td>Goose Creek 01</td>\n",
       "      <td>Lower Chiwawa River</td>\n",
       "      <td>Wenatchee</td>\n",
       "      <td>0.277359</td>\n",
       "      <td>0.104931</td>\n",
       "      <td>0.382290</td>\n",
       "      <td>72.551989</td>\n",
       "      <td>27.448011</td>\n",
       "      <td>5</td>\n",
       "      <td>NaN</td>\n",
       "    </tr>\n",
       "  </tbody>\n",
       "</table>\n",
       "</div>"
      ],
      "text/plain": [
       "                  ReachName       Assessment Unit   Subbasin  Unconfined_mi  \\\n",
       "2            Alder Creek 01  Lower Chiwawa River   Wenatchee       0.750322   \n",
       "3            Alder Creek 02  Lower Chiwawa River   Wenatchee            NaN   \n",
       "51           Brush Creek 01  Lower Chiwawa River   Wenatchee       0.225947   \n",
       "52           Brush Creek 02  Lower Chiwawa River   Wenatchee       0.172058   \n",
       "105  Chiwawa River Lower 01  Lower Chiwawa River   Wenatchee       1.598516   \n",
       "106  Chiwawa River Lower 02  Lower Chiwawa River   Wenatchee       0.602521   \n",
       "107  Chiwawa River Lower 03  Lower Chiwawa River   Wenatchee       0.818099   \n",
       "108  Chiwawa River Lower 04  Lower Chiwawa River   Wenatchee       0.526914   \n",
       "109  Chiwawa River Lower 05  Lower Chiwawa River   Wenatchee       0.284754   \n",
       "110  Chiwawa River Lower 06  Lower Chiwawa River   Wenatchee       0.973131   \n",
       "111  Chiwawa River Lower 07  Lower Chiwawa River   Wenatchee       0.332511   \n",
       "131          Clear Creek 01  Lower Chiwawa River   Wenatchee       0.466707   \n",
       "132          Clear Creek 02  Lower Chiwawa River   Wenatchee       0.134998   \n",
       "217           Gate Creek 01  Lower Chiwawa River   Wenatchee       0.783650   \n",
       "238          Goose Creek 01  Lower Chiwawa River   Wenatchee       0.277359   \n",
       "\n",
       "     Confined_mi  Unconfined_Total  Unconfined_Pct  Confined_Pct  Score  \\\n",
       "2       0.029233          0.779554       96.250164      3.749965      5   \n",
       "3       1.388638          1.388638        0.000000    100.000000      1   \n",
       "51      0.079009          0.304956       74.091672     25.908328      5   \n",
       "52      0.490075          0.662133       25.985414     74.014586      1   \n",
       "105     0.296404          1.894920       84.357968     15.642032      5   \n",
       "106     0.427176          1.029697       58.514398     41.485602      3   \n",
       "107     1.722761          2.540860       32.197720     67.802280      3   \n",
       "108     1.157180          1.684093       31.287702     68.712357      3   \n",
       "109     2.100927          2.385681       11.935963     88.064037      1   \n",
       "110     0.665105          1.638236       59.401149     40.598851      3   \n",
       "111     1.594966          1.927477       17.251101     82.748899      1   \n",
       "131     0.057314          0.524021       89.062652     10.937348      5   \n",
       "132     1.315350          1.450347        9.307979     90.692090      1   \n",
       "217     0.545875          1.329525       58.942103     41.057897      3   \n",
       "238     0.104931          0.382290       72.551989     27.448011      5   \n",
       "\n",
       "     Reviewer Comments (please note your suggested change [0, 3, or 5] and document your rationale for changing the value.  \n",
       "2                                                  NaN                                                                      \n",
       "3                                                  NaN                                                                      \n",
       "51                                                 NaN                                                                      \n",
       "52                                                 NaN                                                                      \n",
       "105                                                NaN                                                                      \n",
       "106                                                NaN                                                                      \n",
       "107                                                NaN                                                                      \n",
       "108                                                NaN                                                                      \n",
       "109                                                NaN                                                                      \n",
       "110                                                NaN                                                                      \n",
       "111                                                NaN                                                                      \n",
       "131                                                NaN                                                                      \n",
       "132                                                NaN                                                                      \n",
       "217                                                NaN                                                                      \n",
       "238                                                NaN                                                                      "
      ]
     },
     "execution_count": 78,
     "metadata": {},
     "output_type": "execute_result"
    }
   ],
   "source": [
    "confinement_scores[confinement_scores['Assessment Unit'].isin(['Lower Chiwawa River '])]"
   ]
  },
  {
   "cell_type": "code",
   "execution_count": 57,
   "metadata": {},
   "outputs": [
    {
     "data": {
      "text/plain": [
       "Index(['ReachName', 'Assessment Unit', 'Subbasin', 'Spring.Chinook.Reach',\n",
       "       'Steelhead.Reach', 'AU Rank Sp CHN', 'AU Rank STL', 'Confinement',\n",
       "       'Number of Life Stages- SPCHN', 'Number of Life Stages- STL',\n",
       "       'Temperature- Rearing', 'Flow- Summer Base Flow', 'Riparian- Structure',\n",
       "       'Riparian-Disturbance', 'Riparian- Canopy Cover', 'Riparian',\n",
       "       'Coarse Substrate', 'Cover- Wood', 'Pool Quantity& Quality',\n",
       "       'Off-Channel- Floodplain', 'Off-Channel- Side-Channels',\n",
       "       'Channel Stability', 'Bank Stability', 'Stability', 'HQ_Sum', 'HQ_Pct',\n",
       "       'HQ_Score', 'Comments', 'TotalNum_LS', 'Species'],\n",
       "      dtype='object')"
      ]
     },
     "execution_count": 57,
     "metadata": {},
     "output_type": "execute_result"
    }
   ],
   "source": [
    "Spring_Chinook_data_frame.columns"
   ]
  },
  {
   "cell_type": "code",
   "execution_count": null,
   "metadata": {},
   "outputs": [],
   "source": []
  },
  {
   "cell_type": "code",
   "execution_count": null,
   "metadata": {},
   "outputs": [],
   "source": []
  },
  {
   "cell_type": "code",
   "execution_count": null,
   "metadata": {},
   "outputs": [],
   "source": []
  },
  {
   "cell_type": "markdown",
   "metadata": {},
   "source": [
    "## -------------- End of code - this is EXTRA - just playing with the data ------"
   ]
  },
  {
   "cell_type": "code",
   "execution_count": 20,
   "metadata": {},
   "outputs": [
    {
     "data": {
      "text/html": [
       "<div>\n",
       "<style scoped>\n",
       "    .dataframe tbody tr th:only-of-type {\n",
       "        vertical-align: middle;\n",
       "    }\n",
       "\n",
       "    .dataframe tbody tr th {\n",
       "        vertical-align: top;\n",
       "    }\n",
       "\n",
       "    .dataframe thead th {\n",
       "        text-align: right;\n",
       "    }\n",
       "</style>\n",
       "<table border=\"1\" class=\"dataframe\">\n",
       "  <thead>\n",
       "    <tr style=\"text-align: right;\">\n",
       "      <th></th>\n",
       "      <th>ReachName</th>\n",
       "      <th>Basin</th>\n",
       "      <th>AssessmentUnit</th>\n",
       "      <th>SpringChinookReach</th>\n",
       "      <th>SPCH_Adult_Migration</th>\n",
       "      <th>SPCH_Holding</th>\n",
       "      <th>SPCH_Spawning</th>\n",
       "      <th>SPCH_Fry_Colonization</th>\n",
       "      <th>SPCH_Summer_Rearing</th>\n",
       "      <th>SPCH_Winter_Rearing</th>\n",
       "      <th>SPCH_Smolt_Emigration</th>\n",
       "      <th>Sum_LifeStage</th>\n",
       "    </tr>\n",
       "  </thead>\n",
       "  <tbody>\n",
       "    <tr>\n",
       "      <th>0</th>\n",
       "      <td>Aeneas Creek 01</td>\n",
       "      <td>Okanogan</td>\n",
       "      <td>Aeneas Creek Okanogan</td>\n",
       "      <td>no</td>\n",
       "      <td>0</td>\n",
       "      <td>0</td>\n",
       "      <td>0</td>\n",
       "      <td>0</td>\n",
       "      <td>0</td>\n",
       "      <td>0</td>\n",
       "      <td>0</td>\n",
       "      <td>0</td>\n",
       "    </tr>\n",
       "    <tr>\n",
       "      <th>1</th>\n",
       "      <td>Aeneas Creek 02</td>\n",
       "      <td>Okanogan</td>\n",
       "      <td>Aeneas Creek Okanogan</td>\n",
       "      <td>no</td>\n",
       "      <td>0</td>\n",
       "      <td>0</td>\n",
       "      <td>0</td>\n",
       "      <td>0</td>\n",
       "      <td>0</td>\n",
       "      <td>0</td>\n",
       "      <td>0</td>\n",
       "      <td>0</td>\n",
       "    </tr>\n",
       "    <tr>\n",
       "      <th>2</th>\n",
       "      <td>Alder Creek 01</td>\n",
       "      <td>Wenatchee</td>\n",
       "      <td>Lower Chiwawa River</td>\n",
       "      <td>yes</td>\n",
       "      <td>0</td>\n",
       "      <td>0</td>\n",
       "      <td>1</td>\n",
       "      <td>1</td>\n",
       "      <td>0</td>\n",
       "      <td>0</td>\n",
       "      <td>1</td>\n",
       "      <td>3</td>\n",
       "    </tr>\n",
       "    <tr>\n",
       "      <th>3</th>\n",
       "      <td>Alder Creek 02</td>\n",
       "      <td>Wenatchee</td>\n",
       "      <td>Lower Chiwawa River</td>\n",
       "      <td>no</td>\n",
       "      <td>0</td>\n",
       "      <td>0</td>\n",
       "      <td>1</td>\n",
       "      <td>1</td>\n",
       "      <td>0</td>\n",
       "      <td>0</td>\n",
       "      <td>0</td>\n",
       "      <td>2</td>\n",
       "    </tr>\n",
       "    <tr>\n",
       "      <th>4</th>\n",
       "      <td>Andrews Creek 01</td>\n",
       "      <td>Methow</td>\n",
       "      <td>Andrews Creek</td>\n",
       "      <td>yes</td>\n",
       "      <td>0</td>\n",
       "      <td>0</td>\n",
       "      <td>0</td>\n",
       "      <td>0</td>\n",
       "      <td>1</td>\n",
       "      <td>1</td>\n",
       "      <td>0</td>\n",
       "      <td>2</td>\n",
       "    </tr>\n",
       "  </tbody>\n",
       "</table>\n",
       "</div>"
      ],
      "text/plain": [
       "          ReachName      Basin         AssessmentUnit SpringChinookReach  \\\n",
       "0   Aeneas Creek 01   Okanogan  Aeneas Creek Okanogan                 no   \n",
       "1   Aeneas Creek 02   Okanogan  Aeneas Creek Okanogan                 no   \n",
       "2    Alder Creek 01  Wenatchee   Lower Chiwawa River                 yes   \n",
       "3    Alder Creek 02  Wenatchee   Lower Chiwawa River                  no   \n",
       "4  Andrews Creek 01     Methow         Andrews Creek                 yes   \n",
       "\n",
       "   SPCH_Adult_Migration  SPCH_Holding  SPCH_Spawning  SPCH_Fry_Colonization  \\\n",
       "0                     0             0              0                      0   \n",
       "1                     0             0              0                      0   \n",
       "2                     0             0              1                      1   \n",
       "3                     0             0              1                      1   \n",
       "4                     0             0              0                      0   \n",
       "\n",
       "   SPCH_Summer_Rearing  SPCH_Winter_Rearing  SPCH_Smolt_Emigration  \\\n",
       "0                    0                    0                      0   \n",
       "1                    0                    0                      0   \n",
       "2                    0                    0                      1   \n",
       "3                    0                    0                      0   \n",
       "4                    1                    1                      0   \n",
       "\n",
       "   Sum_LifeStage  \n",
       "0              0  \n",
       "1              0  \n",
       "2              3  \n",
       "3              2  \n",
       "4              2  "
      ]
     },
     "execution_count": 20,
     "metadata": {},
     "output_type": "execute_result"
    }
   ],
   "source": [
    "reach_life_stages.head()"
   ]
  },
  {
   "cell_type": "code",
   "execution_count": 21,
   "metadata": {},
   "outputs": [
    {
     "data": {
      "text/plain": [
       "Index(['ReachName', 'Assessment Unit', 'Subbasin', 'Spring.Chinook.Reach',\n",
       "       'Steelhead.Reach', 'AU Rank Sp CHN', 'AU Rank STL', 'Temperature',\n",
       "       'Flow- Summer Base Flow', 'Riparian- Structure', 'Riparian-Disturbance',\n",
       "       'Riparian- Canopy Cover', 'Total Riparian', 'Substrate', 'Cover- Wood',\n",
       "       'Pools- All Pools', 'Off-Channel- Floodplain',\n",
       "       'Off-Channel- Side-Channels', 'Off-Channel Total', 'Channel Stability',\n",
       "       'Bank Stability', 'Stability Total', 'HQ_Sum', 'HQ_Pct', 'HQ_Score',\n",
       "       'Reviewer Comments (please note your suggested change [0, 3, or 5] and document your rationale for changing the value.'],\n",
       "      dtype='object')"
      ]
     },
     "execution_count": 21,
     "metadata": {},
     "output_type": "execute_result"
    }
   ],
   "source": [
    "habitat_quality_scores.columns"
   ]
  },
  {
   "cell_type": "code",
   "execution_count": null,
   "metadata": {},
   "outputs": [],
   "source": []
  },
  {
   "cell_type": "code",
   "execution_count": 8,
   "metadata": {},
   "outputs": [
    {
     "data": {
      "text/plain": [
       "Index(['ReachName', 'Assessment Unit', 'Subbasin', 'Spring.Chinook.Reach',\n",
       "       'Steelhead.Reach', 'AU Rank Sp CHN', 'AU Rank STL', 'Temperature',\n",
       "       'Flow- Summer Base Flow', 'Riparian- Structure', 'Riparian-Disturbance',\n",
       "       'Riparian- Canopy Cover', 'Total Riparian', 'Substrate', 'Cover- Wood',\n",
       "       'Pools- All Pools', 'Off-Channel- Floodplain',\n",
       "       'Off-Channel- Side-Channels', 'Off-Channel Total', 'Channel Stability',\n",
       "       'Bank Stability', 'Stability Total', 'HQ_Sum', 'HQ_Pct', 'HQ_Score',\n",
       "       'Reviewer Comments (please note your suggested change [0, 3, or 5] and document your rationale for changing the value.'],\n",
       "      dtype='object')"
      ]
     },
     "execution_count": 8,
     "metadata": {},
     "output_type": "execute_result"
    }
   ],
   "source": [
    "habitat_quality_scores.columns"
   ]
  },
  {
   "cell_type": "code",
   "execution_count": 9,
   "metadata": {},
   "outputs": [
    {
     "data": {
      "text/plain": [
       "0      NaN\n",
       "1      NaN\n",
       "2      NaN\n",
       "3        5\n",
       "4      NaN\n",
       "      ... \n",
       "729      5\n",
       "730      3\n",
       "731      5\n",
       "732      1\n",
       "733      1\n",
       "Name: Riparian- Structure, Length: 734, dtype: object"
      ]
     },
     "execution_count": 9,
     "metadata": {},
     "output_type": "execute_result"
    }
   ],
   "source": [
    "habitat_quality_scores['Riparian- Structure']"
   ]
  },
  {
   "cell_type": "code",
   "execution_count": 22,
   "metadata": {},
   "outputs": [
    {
     "data": {
      "text/plain": [
       "(array([279., 111., 349.,   0.,   0.]),\n",
       " array([ 0,  2,  4,  6,  8, 10]),\n",
       " <a list of 5 Patch objects>)"
      ]
     },
     "execution_count": 22,
     "metadata": {},
     "output_type": "execute_result"
    },
    {
     "data": {
      "image/png": "[encoded data removed]",
      "text/plain": [
       "<Figure size 432x288 with 1 Axes>"
      ]
     },
     "metadata": {
      "needs_background": "light"
     },
     "output_type": "display_data"
    }
   ],
   "source": [
    "plt.hist(confinement_scores['Score'],bins = [0,2,4,6,8,10]) "
   ]
  },
  {
   "cell_type": "code",
   "execution_count": 23,
   "metadata": {},
   "outputs": [
    {
     "data": {
      "text/plain": [
       "['ReachName',\n",
       " 'Basin',\n",
       " 'AssessmentUnit',\n",
       " 'SpringChinookReach',\n",
       " 'SPCH_Adult_Migration',\n",
       " 'SPCH_Holding',\n",
       " 'SPCH_Spawning',\n",
       " 'SPCH_Fry_Colonization',\n",
       " 'SPCH_Summer_Rearing',\n",
       " 'SPCH_Winter_Rearing',\n",
       " 'SPCH_Smolt_Emigration',\n",
       " 'Sum_LifeStage']"
      ]
     },
     "execution_count": 23,
     "metadata": {},
     "output_type": "execute_result"
    }
   ],
   "source": [
    "list(reach_life_stages.columns)"
   ]
  },
  {
   "cell_type": "code",
   "execution_count": 24,
   "metadata": {},
   "outputs": [
    {
     "ename": "TypeError",
     "evalue": "'value' must be an instance of str or bytes, not a int",
     "output_type": "error",
     "traceback": [
      "\u001b[1;31m---------------------------------------------------------------------------\u001b[0m",
      "\u001b[1;31mTypeError\u001b[0m                                 Traceback (most recent call last)",
      "\u001b[1;32m<ipython-input-24-7c976dafae0b>\u001b[0m in \u001b[0;36m<module>\u001b[1;34m\u001b[0m\n\u001b[1;32m----> 1\u001b[1;33m \u001b[0mplt\u001b[0m\u001b[1;33m.\u001b[0m\u001b[0mhist\u001b[0m\u001b[1;33m(\u001b[0m\u001b[0mhabitat_quality_scores\u001b[0m\u001b[1;33m[\u001b[0m\u001b[1;34m'AU Rank Sp CHN'\u001b[0m\u001b[1;33m]\u001b[0m\u001b[1;33m[\u001b[0m\u001b[1;36m9\u001b[0m\u001b[1;33m:\u001b[0m\u001b[1;36m22\u001b[0m\u001b[1;33m]\u001b[0m\u001b[1;33m,\u001b[0m\u001b[0mbins\u001b[0m \u001b[1;33m=\u001b[0m \u001b[1;33m[\u001b[0m\u001b[1;36m0\u001b[0m\u001b[1;33m,\u001b[0m\u001b[1;36m1\u001b[0m\u001b[1;33m,\u001b[0m\u001b[1;36m2\u001b[0m\u001b[1;33m,\u001b[0m\u001b[1;36m3\u001b[0m\u001b[1;33m,\u001b[0m\u001b[1;36m4\u001b[0m\u001b[1;33m]\u001b[0m\u001b[1;33m)\u001b[0m\u001b[1;33m\u001b[0m\u001b[1;33m\u001b[0m\u001b[0m\n\u001b[0m",
      "\u001b[1;32m~\\Anaconda3\\lib\\site-packages\\matplotlib\\pyplot.py\u001b[0m in \u001b[0;36mhist\u001b[1;34m(x, bins, range, density, weights, cumulative, bottom, histtype, align, orientation, rwidth, log, color, label, stacked, data, **kwargs)\u001b[0m\n\u001b[0;32m   2603\u001b[0m         \u001b[0morientation\u001b[0m\u001b[1;33m=\u001b[0m\u001b[1;34m'vertical'\u001b[0m\u001b[1;33m,\u001b[0m \u001b[0mrwidth\u001b[0m\u001b[1;33m=\u001b[0m\u001b[1;32mNone\u001b[0m\u001b[1;33m,\u001b[0m \u001b[0mlog\u001b[0m\u001b[1;33m=\u001b[0m\u001b[1;32mFalse\u001b[0m\u001b[1;33m,\u001b[0m \u001b[0mcolor\u001b[0m\u001b[1;33m=\u001b[0m\u001b[1;32mNone\u001b[0m\u001b[1;33m,\u001b[0m\u001b[1;33m\u001b[0m\u001b[1;33m\u001b[0m\u001b[0m\n\u001b[0;32m   2604\u001b[0m         label=None, stacked=False, *, data=None, **kwargs):\n\u001b[1;32m-> 2605\u001b[1;33m     return gca().hist(\n\u001b[0m\u001b[0;32m   2606\u001b[0m         \u001b[0mx\u001b[0m\u001b[1;33m,\u001b[0m \u001b[0mbins\u001b[0m\u001b[1;33m=\u001b[0m\u001b[0mbins\u001b[0m\u001b[1;33m,\u001b[0m \u001b[0mrange\u001b[0m\u001b[1;33m=\u001b[0m\u001b[0mrange\u001b[0m\u001b[1;33m,\u001b[0m \u001b[0mdensity\u001b[0m\u001b[1;33m=\u001b[0m\u001b[0mdensity\u001b[0m\u001b[1;33m,\u001b[0m \u001b[0mweights\u001b[0m\u001b[1;33m=\u001b[0m\u001b[0mweights\u001b[0m\u001b[1;33m,\u001b[0m\u001b[1;33m\u001b[0m\u001b[1;33m\u001b[0m\u001b[0m\n\u001b[0;32m   2607\u001b[0m         \u001b[0mcumulative\u001b[0m\u001b[1;33m=\u001b[0m\u001b[0mcumulative\u001b[0m\u001b[1;33m,\u001b[0m \u001b[0mbottom\u001b[0m\u001b[1;33m=\u001b[0m\u001b[0mbottom\u001b[0m\u001b[1;33m,\u001b[0m \u001b[0mhisttype\u001b[0m\u001b[1;33m=\u001b[0m\u001b[0mhisttype\u001b[0m\u001b[1;33m,\u001b[0m\u001b[1;33m\u001b[0m\u001b[1;33m\u001b[0m\u001b[0m\n",
      "\u001b[1;32m~\\Anaconda3\\lib\\site-packages\\matplotlib\\__init__.py\u001b[0m in \u001b[0;36minner\u001b[1;34m(ax, data, *args, **kwargs)\u001b[0m\n\u001b[0;32m   1563\u001b[0m     \u001b[1;32mdef\u001b[0m \u001b[0minner\u001b[0m\u001b[1;33m(\u001b[0m\u001b[0max\u001b[0m\u001b[1;33m,\u001b[0m \u001b[1;33m*\u001b[0m\u001b[0margs\u001b[0m\u001b[1;33m,\u001b[0m \u001b[0mdata\u001b[0m\u001b[1;33m=\u001b[0m\u001b[1;32mNone\u001b[0m\u001b[1;33m,\u001b[0m \u001b[1;33m**\u001b[0m\u001b[0mkwargs\u001b[0m\u001b[1;33m)\u001b[0m\u001b[1;33m:\u001b[0m\u001b[1;33m\u001b[0m\u001b[1;33m\u001b[0m\u001b[0m\n\u001b[0;32m   1564\u001b[0m         \u001b[1;32mif\u001b[0m \u001b[0mdata\u001b[0m \u001b[1;32mis\u001b[0m \u001b[1;32mNone\u001b[0m\u001b[1;33m:\u001b[0m\u001b[1;33m\u001b[0m\u001b[1;33m\u001b[0m\u001b[0m\n\u001b[1;32m-> 1565\u001b[1;33m             \u001b[1;32mreturn\u001b[0m \u001b[0mfunc\u001b[0m\u001b[1;33m(\u001b[0m\u001b[0max\u001b[0m\u001b[1;33m,\u001b[0m \u001b[1;33m*\u001b[0m\u001b[0mmap\u001b[0m\u001b[1;33m(\u001b[0m\u001b[0msanitize_sequence\u001b[0m\u001b[1;33m,\u001b[0m \u001b[0margs\u001b[0m\u001b[1;33m)\u001b[0m\u001b[1;33m,\u001b[0m \u001b[1;33m**\u001b[0m\u001b[0mkwargs\u001b[0m\u001b[1;33m)\u001b[0m\u001b[1;33m\u001b[0m\u001b[1;33m\u001b[0m\u001b[0m\n\u001b[0m\u001b[0;32m   1566\u001b[0m \u001b[1;33m\u001b[0m\u001b[0m\n\u001b[0;32m   1567\u001b[0m         \u001b[0mbound\u001b[0m \u001b[1;33m=\u001b[0m \u001b[0mnew_sig\u001b[0m\u001b[1;33m.\u001b[0m\u001b[0mbind\u001b[0m\u001b[1;33m(\u001b[0m\u001b[0max\u001b[0m\u001b[1;33m,\u001b[0m \u001b[1;33m*\u001b[0m\u001b[0margs\u001b[0m\u001b[1;33m,\u001b[0m \u001b[1;33m**\u001b[0m\u001b[0mkwargs\u001b[0m\u001b[1;33m)\u001b[0m\u001b[1;33m\u001b[0m\u001b[1;33m\u001b[0m\u001b[0m\n",
      "\u001b[1;32m~\\Anaconda3\\lib\\site-packages\\matplotlib\\axes\\_axes.py\u001b[0m in \u001b[0;36mhist\u001b[1;34m(self, x, bins, range, density, weights, cumulative, bottom, histtype, align, orientation, rwidth, log, color, label, stacked, **kwargs)\u001b[0m\n\u001b[0;32m   6583\u001b[0m         \u001b[1;31m# Process unit information\u001b[0m\u001b[1;33m\u001b[0m\u001b[1;33m\u001b[0m\u001b[1;33m\u001b[0m\u001b[0m\n\u001b[0;32m   6584\u001b[0m         \u001b[1;31m# Unit conversion is done individually on each dataset\u001b[0m\u001b[1;33m\u001b[0m\u001b[1;33m\u001b[0m\u001b[1;33m\u001b[0m\u001b[0m\n\u001b[1;32m-> 6585\u001b[1;33m         \u001b[0mself\u001b[0m\u001b[1;33m.\u001b[0m\u001b[0m_process_unit_info\u001b[0m\u001b[1;33m(\u001b[0m\u001b[0mxdata\u001b[0m\u001b[1;33m=\u001b[0m\u001b[0mx\u001b[0m\u001b[1;33m[\u001b[0m\u001b[1;36m0\u001b[0m\u001b[1;33m]\u001b[0m\u001b[1;33m,\u001b[0m \u001b[0mkwargs\u001b[0m\u001b[1;33m=\u001b[0m\u001b[0mkwargs\u001b[0m\u001b[1;33m)\u001b[0m\u001b[1;33m\u001b[0m\u001b[1;33m\u001b[0m\u001b[0m\n\u001b[0m\u001b[0;32m   6586\u001b[0m         \u001b[0mx\u001b[0m \u001b[1;33m=\u001b[0m \u001b[1;33m[\u001b[0m\u001b[0mself\u001b[0m\u001b[1;33m.\u001b[0m\u001b[0mconvert_xunits\u001b[0m\u001b[1;33m(\u001b[0m\u001b[0mxi\u001b[0m\u001b[1;33m)\u001b[0m \u001b[1;32mfor\u001b[0m \u001b[0mxi\u001b[0m \u001b[1;32min\u001b[0m \u001b[0mx\u001b[0m\u001b[1;33m]\u001b[0m\u001b[1;33m\u001b[0m\u001b[1;33m\u001b[0m\u001b[0m\n\u001b[0;32m   6587\u001b[0m \u001b[1;33m\u001b[0m\u001b[0m\n",
      "\u001b[1;32m~\\Anaconda3\\lib\\site-packages\\matplotlib\\axes\\_base.py\u001b[0m in \u001b[0;36m_process_unit_info\u001b[1;34m(self, xdata, ydata, kwargs)\u001b[0m\n\u001b[0;32m   2071\u001b[0m             \u001b[1;32mreturn\u001b[0m \u001b[0mkwargs\u001b[0m\u001b[1;33m\u001b[0m\u001b[1;33m\u001b[0m\u001b[0m\n\u001b[0;32m   2072\u001b[0m \u001b[1;33m\u001b[0m\u001b[0m\n\u001b[1;32m-> 2073\u001b[1;33m         \u001b[0mkwargs\u001b[0m \u001b[1;33m=\u001b[0m \u001b[0m_process_single_axis\u001b[0m\u001b[1;33m(\u001b[0m\u001b[0mxdata\u001b[0m\u001b[1;33m,\u001b[0m \u001b[0mself\u001b[0m\u001b[1;33m.\u001b[0m\u001b[0mxaxis\u001b[0m\u001b[1;33m,\u001b[0m \u001b[1;34m'xunits'\u001b[0m\u001b[1;33m,\u001b[0m \u001b[0mkwargs\u001b[0m\u001b[1;33m)\u001b[0m\u001b[1;33m\u001b[0m\u001b[1;33m\u001b[0m\u001b[0m\n\u001b[0m\u001b[0;32m   2074\u001b[0m         \u001b[0mkwargs\u001b[0m \u001b[1;33m=\u001b[0m \u001b[0m_process_single_axis\u001b[0m\u001b[1;33m(\u001b[0m\u001b[0mydata\u001b[0m\u001b[1;33m,\u001b[0m \u001b[0mself\u001b[0m\u001b[1;33m.\u001b[0m\u001b[0myaxis\u001b[0m\u001b[1;33m,\u001b[0m \u001b[1;34m'yunits'\u001b[0m\u001b[1;33m,\u001b[0m \u001b[0mkwargs\u001b[0m\u001b[1;33m)\u001b[0m\u001b[1;33m\u001b[0m\u001b[1;33m\u001b[0m\u001b[0m\n\u001b[0;32m   2075\u001b[0m         \u001b[1;32mreturn\u001b[0m \u001b[0mkwargs\u001b[0m\u001b[1;33m\u001b[0m\u001b[1;33m\u001b[0m\u001b[0m\n",
      "\u001b[1;32m~\\Anaconda3\\lib\\site-packages\\matplotlib\\axes\\_base.py\u001b[0m in \u001b[0;36m_process_single_axis\u001b[1;34m(data, axis, unit_name, kwargs)\u001b[0m\n\u001b[0;32m   2054\u001b[0m                 \u001b[1;31m# We only need to update if there is nothing set yet.\u001b[0m\u001b[1;33m\u001b[0m\u001b[1;33m\u001b[0m\u001b[1;33m\u001b[0m\u001b[0m\n\u001b[0;32m   2055\u001b[0m                 \u001b[1;32mif\u001b[0m \u001b[1;32mnot\u001b[0m \u001b[0maxis\u001b[0m\u001b[1;33m.\u001b[0m\u001b[0mhave_units\u001b[0m\u001b[1;33m(\u001b[0m\u001b[1;33m)\u001b[0m\u001b[1;33m:\u001b[0m\u001b[1;33m\u001b[0m\u001b[1;33m\u001b[0m\u001b[0m\n\u001b[1;32m-> 2056\u001b[1;33m                     \u001b[0maxis\u001b[0m\u001b[1;33m.\u001b[0m\u001b[0mupdate_units\u001b[0m\u001b[1;33m(\u001b[0m\u001b[0mdata\u001b[0m\u001b[1;33m)\u001b[0m\u001b[1;33m\u001b[0m\u001b[1;33m\u001b[0m\u001b[0m\n\u001b[0m\u001b[0;32m   2057\u001b[0m \u001b[1;33m\u001b[0m\u001b[0m\n\u001b[0;32m   2058\u001b[0m             \u001b[1;31m# Check for units in the kwargs, and if present update axis\u001b[0m\u001b[1;33m\u001b[0m\u001b[1;33m\u001b[0m\u001b[1;33m\u001b[0m\u001b[0m\n",
      "\u001b[1;32m~\\Anaconda3\\lib\\site-packages\\matplotlib\\axis.py\u001b[0m in \u001b[0;36mupdate_units\u001b[1;34m(self, data)\u001b[0m\n\u001b[0;32m   1514\u001b[0m         \u001b[0mneednew\u001b[0m \u001b[1;33m=\u001b[0m \u001b[0mself\u001b[0m\u001b[1;33m.\u001b[0m\u001b[0mconverter\u001b[0m \u001b[1;33m!=\u001b[0m \u001b[0mconverter\u001b[0m\u001b[1;33m\u001b[0m\u001b[1;33m\u001b[0m\u001b[0m\n\u001b[0;32m   1515\u001b[0m         \u001b[0mself\u001b[0m\u001b[1;33m.\u001b[0m\u001b[0mconverter\u001b[0m \u001b[1;33m=\u001b[0m \u001b[0mconverter\u001b[0m\u001b[1;33m\u001b[0m\u001b[1;33m\u001b[0m\u001b[0m\n\u001b[1;32m-> 1516\u001b[1;33m         \u001b[0mdefault\u001b[0m \u001b[1;33m=\u001b[0m \u001b[0mself\u001b[0m\u001b[1;33m.\u001b[0m\u001b[0mconverter\u001b[0m\u001b[1;33m.\u001b[0m\u001b[0mdefault_units\u001b[0m\u001b[1;33m(\u001b[0m\u001b[0mdata\u001b[0m\u001b[1;33m,\u001b[0m \u001b[0mself\u001b[0m\u001b[1;33m)\u001b[0m\u001b[1;33m\u001b[0m\u001b[1;33m\u001b[0m\u001b[0m\n\u001b[0m\u001b[0;32m   1517\u001b[0m         \u001b[1;32mif\u001b[0m \u001b[0mdefault\u001b[0m \u001b[1;32mis\u001b[0m \u001b[1;32mnot\u001b[0m \u001b[1;32mNone\u001b[0m \u001b[1;32mand\u001b[0m \u001b[0mself\u001b[0m\u001b[1;33m.\u001b[0m\u001b[0munits\u001b[0m \u001b[1;32mis\u001b[0m \u001b[1;32mNone\u001b[0m\u001b[1;33m:\u001b[0m\u001b[1;33m\u001b[0m\u001b[1;33m\u001b[0m\u001b[0m\n\u001b[0;32m   1518\u001b[0m             \u001b[0mself\u001b[0m\u001b[1;33m.\u001b[0m\u001b[0mset_units\u001b[0m\u001b[1;33m(\u001b[0m\u001b[0mdefault\u001b[0m\u001b[1;33m)\u001b[0m\u001b[1;33m\u001b[0m\u001b[1;33m\u001b[0m\u001b[0m\n",
      "\u001b[1;32m~\\Anaconda3\\lib\\site-packages\\matplotlib\\category.py\u001b[0m in \u001b[0;36mdefault_units\u001b[1;34m(data, axis)\u001b[0m\n\u001b[0;32m    105\u001b[0m         \u001b[1;31m# the conversion call stack is default_units -> axis_info -> convert\u001b[0m\u001b[1;33m\u001b[0m\u001b[1;33m\u001b[0m\u001b[1;33m\u001b[0m\u001b[0m\n\u001b[0;32m    106\u001b[0m         \u001b[1;32mif\u001b[0m \u001b[0maxis\u001b[0m\u001b[1;33m.\u001b[0m\u001b[0munits\u001b[0m \u001b[1;32mis\u001b[0m \u001b[1;32mNone\u001b[0m\u001b[1;33m:\u001b[0m\u001b[1;33m\u001b[0m\u001b[1;33m\u001b[0m\u001b[0m\n\u001b[1;32m--> 107\u001b[1;33m             \u001b[0maxis\u001b[0m\u001b[1;33m.\u001b[0m\u001b[0mset_units\u001b[0m\u001b[1;33m(\u001b[0m\u001b[0mUnitData\u001b[0m\u001b[1;33m(\u001b[0m\u001b[0mdata\u001b[0m\u001b[1;33m)\u001b[0m\u001b[1;33m)\u001b[0m\u001b[1;33m\u001b[0m\u001b[1;33m\u001b[0m\u001b[0m\n\u001b[0m\u001b[0;32m    108\u001b[0m         \u001b[1;32melse\u001b[0m\u001b[1;33m:\u001b[0m\u001b[1;33m\u001b[0m\u001b[1;33m\u001b[0m\u001b[0m\n\u001b[0;32m    109\u001b[0m             \u001b[0maxis\u001b[0m\u001b[1;33m.\u001b[0m\u001b[0munits\u001b[0m\u001b[1;33m.\u001b[0m\u001b[0mupdate\u001b[0m\u001b[1;33m(\u001b[0m\u001b[0mdata\u001b[0m\u001b[1;33m)\u001b[0m\u001b[1;33m\u001b[0m\u001b[1;33m\u001b[0m\u001b[0m\n",
      "\u001b[1;32m~\\Anaconda3\\lib\\site-packages\\matplotlib\\category.py\u001b[0m in \u001b[0;36m__init__\u001b[1;34m(self, data)\u001b[0m\n\u001b[0;32m    173\u001b[0m         \u001b[0mself\u001b[0m\u001b[1;33m.\u001b[0m\u001b[0m_counter\u001b[0m \u001b[1;33m=\u001b[0m \u001b[0mitertools\u001b[0m\u001b[1;33m.\u001b[0m\u001b[0mcount\u001b[0m\u001b[1;33m(\u001b[0m\u001b[1;33m)\u001b[0m\u001b[1;33m\u001b[0m\u001b[1;33m\u001b[0m\u001b[0m\n\u001b[0;32m    174\u001b[0m         \u001b[1;32mif\u001b[0m \u001b[0mdata\u001b[0m \u001b[1;32mis\u001b[0m \u001b[1;32mnot\u001b[0m \u001b[1;32mNone\u001b[0m\u001b[1;33m:\u001b[0m\u001b[1;33m\u001b[0m\u001b[1;33m\u001b[0m\u001b[0m\n\u001b[1;32m--> 175\u001b[1;33m             \u001b[0mself\u001b[0m\u001b[1;33m.\u001b[0m\u001b[0mupdate\u001b[0m\u001b[1;33m(\u001b[0m\u001b[0mdata\u001b[0m\u001b[1;33m)\u001b[0m\u001b[1;33m\u001b[0m\u001b[1;33m\u001b[0m\u001b[0m\n\u001b[0m\u001b[0;32m    176\u001b[0m \u001b[1;33m\u001b[0m\u001b[0m\n\u001b[0;32m    177\u001b[0m     \u001b[1;33m@\u001b[0m\u001b[0mstaticmethod\u001b[0m\u001b[1;33m\u001b[0m\u001b[1;33m\u001b[0m\u001b[0m\n",
      "\u001b[1;32m~\\Anaconda3\\lib\\site-packages\\matplotlib\\category.py\u001b[0m in \u001b[0;36mupdate\u001b[1;34m(self, data)\u001b[0m\n\u001b[0;32m    210\u001b[0m         \u001b[1;32mfor\u001b[0m \u001b[0mval\u001b[0m \u001b[1;32min\u001b[0m \u001b[0mOrderedDict\u001b[0m\u001b[1;33m.\u001b[0m\u001b[0mfromkeys\u001b[0m\u001b[1;33m(\u001b[0m\u001b[0mdata\u001b[0m\u001b[1;33m)\u001b[0m\u001b[1;33m:\u001b[0m\u001b[1;33m\u001b[0m\u001b[1;33m\u001b[0m\u001b[0m\n\u001b[0;32m    211\u001b[0m             \u001b[1;31m# OrderedDict just iterates over unique values in data.\u001b[0m\u001b[1;33m\u001b[0m\u001b[1;33m\u001b[0m\u001b[1;33m\u001b[0m\u001b[0m\n\u001b[1;32m--> 212\u001b[1;33m             \u001b[0mcbook\u001b[0m\u001b[1;33m.\u001b[0m\u001b[0m_check_isinstance\u001b[0m\u001b[1;33m(\u001b[0m\u001b[1;33m(\u001b[0m\u001b[0mstr\u001b[0m\u001b[1;33m,\u001b[0m \u001b[0mbytes\u001b[0m\u001b[1;33m)\u001b[0m\u001b[1;33m,\u001b[0m \u001b[0mvalue\u001b[0m\u001b[1;33m=\u001b[0m\u001b[0mval\u001b[0m\u001b[1;33m)\u001b[0m\u001b[1;33m\u001b[0m\u001b[1;33m\u001b[0m\u001b[0m\n\u001b[0m\u001b[0;32m    213\u001b[0m             \u001b[1;32mif\u001b[0m \u001b[0mconvertible\u001b[0m\u001b[1;33m:\u001b[0m\u001b[1;33m\u001b[0m\u001b[1;33m\u001b[0m\u001b[0m\n\u001b[0;32m    214\u001b[0m                 \u001b[1;31m# this will only be called so long as convertible is True.\u001b[0m\u001b[1;33m\u001b[0m\u001b[1;33m\u001b[0m\u001b[1;33m\u001b[0m\u001b[0m\n",
      "\u001b[1;32m~\\Anaconda3\\lib\\site-packages\\matplotlib\\cbook\\__init__.py\u001b[0m in \u001b[0;36m_check_isinstance\u001b[1;34m(_types, **kwargs)\u001b[0m\n\u001b[0;32m   2121\u001b[0m     \u001b[1;32mfor\u001b[0m \u001b[0mk\u001b[0m\u001b[1;33m,\u001b[0m \u001b[0mv\u001b[0m \u001b[1;32min\u001b[0m \u001b[0mkwargs\u001b[0m\u001b[1;33m.\u001b[0m\u001b[0mitems\u001b[0m\u001b[1;33m(\u001b[0m\u001b[1;33m)\u001b[0m\u001b[1;33m:\u001b[0m\u001b[1;33m\u001b[0m\u001b[1;33m\u001b[0m\u001b[0m\n\u001b[0;32m   2122\u001b[0m         \u001b[1;32mif\u001b[0m \u001b[1;32mnot\u001b[0m \u001b[0misinstance\u001b[0m\u001b[1;33m(\u001b[0m\u001b[0mv\u001b[0m\u001b[1;33m,\u001b[0m \u001b[0mtypes\u001b[0m\u001b[1;33m)\u001b[0m\u001b[1;33m:\u001b[0m\u001b[1;33m\u001b[0m\u001b[1;33m\u001b[0m\u001b[0m\n\u001b[1;32m-> 2123\u001b[1;33m             raise TypeError(\n\u001b[0m\u001b[0;32m   2124\u001b[0m                 \"{!r} must be an instance of {}, not a {}\".format(\n\u001b[0;32m   2125\u001b[0m                     \u001b[0mk\u001b[0m\u001b[1;33m,\u001b[0m\u001b[1;33m\u001b[0m\u001b[1;33m\u001b[0m\u001b[0m\n",
      "\u001b[1;31mTypeError\u001b[0m: 'value' must be an instance of str or bytes, not a int"
     ]
    },
    {
     "data": {
      "image/png": "[encoded data removed]",
      "text/plain": [
       "<Figure size 432x288 with 1 Axes>"
      ]
     },
     "metadata": {
      "needs_background": "light"
     },
     "output_type": "display_data"
    }
   ],
   "source": [
    "plt.hist(habitat_quality_scores['AU Rank Sp CHN'][9:22],bins = [0,1,2,3,4])"
   ]
  },
  {
   "cell_type": "code",
   "execution_count": null,
   "metadata": {},
   "outputs": [],
   "source": [
    "habitat_quality_scores['AU Rank Sp CHN'][35:70]"
   ]
  },
  {
   "cell_type": "code",
   "execution_count": null,
   "metadata": {},
   "outputs": [],
   "source": [
    "list(habitat_quality_scores.columns)"
   ]
  },
  {
   "cell_type": "code",
   "execution_count": null,
   "metadata": {},
   "outputs": [],
   "source": []
  }
 ],
 "metadata": {
  "kernelspec": {
   "display_name": "Python 3",
   "language": "python",
   "name": "python3"
  },
  "language_info": {
   "codemirror_mode": {
    "name": "ipython",
    "version": 3
   },
   "file_extension": ".py",
   "mimetype": "text/x-python",
   "name": "python",
   "nbconvert_exporter": "python",
   "pygments_lexer": "ipython3",
   "version": "3.8.3"
  },
  "widgets": {
   "application/vnd.jupyter.widget-state+json": {
    "state": {},
    "version_major": 2,
    "version_minor": 0
   }
  }
 },
 "nbformat": 4,
 "nbformat_minor": 4
}
